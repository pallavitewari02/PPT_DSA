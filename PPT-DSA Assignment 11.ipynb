{
 "cells": [
  {
   "cell_type": "markdown",
   "id": "65011a53",
   "metadata": {},
   "source": [
    "Q1.Given a non-negative integer `x`, return *the square root of* `x` *rounded down to the nearest integer*. The returned integer should be **non-negative** as well.\n",
    "\n",
    "You **must not use** any built-in exponent function or operator."
   ]
  },
  {
   "cell_type": "code",
   "execution_count": 13,
   "id": "d321a2cd",
   "metadata": {},
   "outputs": [],
   "source": [
    "def mySqrt(x):\n",
    "    if x < 2:\n",
    "        return x\n",
    "        \n",
    "    start = 0\n",
    "    end = x/2\n",
    "        \n",
    "    while (start <= end):\n",
    "        mid = int((start + end) / 2)\n",
    "            \n",
    "        square = mid * mid\n",
    "            \n",
    "        if square == x:\n",
    "            return mid\n",
    "            \n",
    "        if square > x:\n",
    "            end = mid - 1\n",
    "                \n",
    "        else:\n",
    "            start = mid + 1\n",
    "                \n",
    "    return end"
   ]
  },
  {
   "cell_type": "code",
   "execution_count": 14,
   "id": "11dc7958",
   "metadata": {},
   "outputs": [
    {
     "data": {
      "text/plain": [
       "2"
      ]
     },
     "execution_count": 14,
     "metadata": {},
     "output_type": "execute_result"
    }
   ],
   "source": [
    "mySqrt(4)"
   ]
  },
  {
   "cell_type": "markdown",
   "id": "276c32ba",
   "metadata": {},
   "source": [
    "Q2.A peak element is an element that is strictly greater than its neighbors.\n",
    "\n",
    "Given a **0-indexed** integer array `nums`, find a peak element, and return its index. If the array contains multiple peaks, return the index to **any of the peaks**.\n",
    "\n",
    "You may imagine that `nums[-1] = nums[n] = -∞`. In other words, an element is always considered to be strictly greater than a neighbor that is outside the array.\n",
    "\n",
    "You must write an algorithm that runs in `O(log n)` time."
   ]
  },
  {
   "cell_type": "code",
   "execution_count": 16,
   "id": "bc552301",
   "metadata": {},
   "outputs": [
    {
     "name": "stdout",
     "output_type": "stream",
     "text": [
      "Index of a peak point is 2\n"
     ]
    }
   ],
   "source": [
    "def findPeak(arr, n) :\n",
    "    if (n == 1) :\n",
    "        return 0\n",
    "    if (arr[0] >= arr[1]) :\n",
    "        return 0\n",
    "    if (arr[n - 1] >= arr[n - 2]) :\n",
    "        return n - 1\n",
    "    for i in range(1, n - 1) :\n",
    "        if (arr[i] >= arr[i - 1] and arr[i] >= arr[i + 1]) :\n",
    "            return i\n",
    "             \n",
    "\n",
    "arr = [1,2,3,1]\n",
    "n = len(arr)\n",
    "print(\"Index of a peak point is\", findPeak(arr, n))"
   ]
  },
  {
   "cell_type": "markdown",
   "id": "349df690",
   "metadata": {},
   "source": [
    "Q3.Given an array nums containing n distinct numbers in the range [0, n], return the only number in the range that is missing from the array."
   ]
  },
  {
   "cell_type": "code",
   "execution_count": 17,
   "id": "e61951d6",
   "metadata": {},
   "outputs": [],
   "source": [
    "def findMissing(arr, N):\n",
    "    temp = [0] * (N+1)\n",
    " \n",
    "    for i in range(0, N):\n",
    "        temp[arr[i] - 1] = 1\n",
    " \n",
    "    for i in range(0, N+1):\n",
    "        if(temp[i] == 0):\n",
    "            ans = i + 1\n",
    " \n",
    "    print(ans)"
   ]
  },
  {
   "cell_type": "code",
   "execution_count": 18,
   "id": "7d7c49f9",
   "metadata": {},
   "outputs": [
    {
     "name": "stdout",
     "output_type": "stream",
     "text": [
      "2\n"
     ]
    }
   ],
   "source": [
    "findMissing([3,0,1],3)"
   ]
  },
  {
   "cell_type": "markdown",
   "id": "36b16548",
   "metadata": {},
   "source": [
    "Q4.Given an array of integers `nums` containing `n + 1` integers where each integer is in the range `[1, n]` inclusive.\n",
    "\n",
    "There is only **one repeated number** in `nums`, return *this repeated number*.\n",
    "\n",
    "You must solve the problem **without** modifying the array `nums` and uses only constant extra space."
   ]
  },
  {
   "cell_type": "code",
   "execution_count": 21,
   "id": "7b75063c",
   "metadata": {},
   "outputs": [
    {
     "name": "stdout",
     "output_type": "stream",
     "text": [
      "[2]\n"
     ]
    }
   ],
   "source": [
    "lis = [1,3,4,2,2]\n",
    " \n",
    "uniqueList = []\n",
    "duplicateList = []\n",
    " \n",
    "for i in lis:\n",
    "    if i not in uniqueList:\n",
    "        uniqueList.append(i)\n",
    "    elif i not in duplicateList:\n",
    "        duplicateList.append(i)\n",
    "print(duplicateList)"
   ]
  },
  {
   "cell_type": "markdown",
   "id": "aafb3ed6",
   "metadata": {},
   "source": [
    "Q5.Given two integer arrays nums1 and nums2, return an array of their intersection. Each element in the result must be unique and you may return the result in any order."
   ]
  },
  {
   "cell_type": "code",
   "execution_count": 22,
   "id": "98a12835",
   "metadata": {},
   "outputs": [],
   "source": [
    "def intersection(lst1, lst2):\n",
    "    lst3 = [value for value in lst1 if value in lst2]\n",
    "    return lst3"
   ]
  },
  {
   "cell_type": "code",
   "execution_count": 23,
   "id": "53c6b367",
   "metadata": {},
   "outputs": [
    {
     "data": {
      "text/plain": [
       "[4, 9, 5]"
      ]
     },
     "execution_count": 23,
     "metadata": {},
     "output_type": "execute_result"
    }
   ],
   "source": [
    "intersection([4,9,5],[4,9,5])"
   ]
  },
  {
   "cell_type": "markdown",
   "id": "649b4107",
   "metadata": {},
   "source": [
    "Q6.Suppose an array of length `n` sorted in ascending order is **rotated** between `1` and `n` times. For example, the array `nums = [0,1,2,4,5,6,7]` might become:\n",
    "\n",
    "- `[4,5,6,7,0,1,2]` if it was rotated `4` times.\n",
    "- `[0,1,2,4,5,6,7]` if it was rotated `7` times.\n",
    "\n",
    "Notice that **rotating** an array `[a[0], a[1], a[2], ..., a[n-1]]` 1 time results in the array `[a[n-1], a[0], a[1], a[2], ..., a[n-2]]`.\n",
    "\n",
    "Given the sorted rotated array `nums` of **unique** elements, return *the minimum element of this array*.\n",
    "\n",
    "You must write an algorithm that runs in `O(log n) time.`"
   ]
  },
  {
   "cell_type": "markdown",
   "id": "fb505b6f",
   "metadata": {},
   "source": [
    "Q7.Given an array of integers `nums` sorted in non-decreasing order, find the starting and ending position of a given `target` value.\n",
    "\n",
    "If `target` is not found in the array, return `[-1, -1]`.\n",
    "\n",
    "You must write an algorithm with `O(log n)` runtime complexity."
   ]
  },
  {
   "cell_type": "markdown",
   "id": "cba715bf",
   "metadata": {},
   "source": [
    "Algorithm:\n",
    "\n",
    "    We first initialize low=0 & high =n-1 to track the left & right ends. Now we run a loop till low<=high:\n",
    "        1. We calcuate mid,i.e.  mid=low+(high-low)/2.\n",
    "        \n",
    "        2. Now we compare the value at mid with the targe.The middle element will be the first occurence in two situations: \n",
    "            A). When the first occurence is present somewhere in the middle i.e. Target==A[mid] and Target>A[mid-1]\n",
    "            B).When the first occurence is present at the first position i.e. mid==0 and A[mid]==Target. In both situations,we return the mid-index as the first occurence.\n",
    "        \n",
    "        3. If (Target>A[mid]),we search for the first occurence in the right part because all values in the left part are less than the target. Update low=mid+1.\n",
    "        \n",
    "        4. If both conditions are not satisfied, we need to search for the first occurrence in the left part.We update high=mid-1.\n",
    "        \n",
    "        5. If we did not find the target value by the end of the loop,we return -1\n",
    "        "
   ]
  },
  {
   "cell_type": "markdown",
   "id": "731c01c1",
   "metadata": {},
   "source": [
    "Q8.Given two integer arrays nums1 and nums2, return an array of their intersection. Each element in the result must appear as many times as it shows in both arrays and you may return the result in any order."
   ]
  },
  {
   "cell_type": "code",
   "execution_count": 24,
   "id": "ad0d4e87",
   "metadata": {},
   "outputs": [
    {
     "name": "stdout",
     "output_type": "stream",
     "text": [
      "[2, 2]\n"
     ]
    }
   ],
   "source": [
    "def intersect(nums1, nums2):\n",
    "    m = {}\n",
    "    if len(nums1)<len(nums2):\n",
    "        nums1,nums2 = nums2,nums1\n",
    "    for i in nums1:\n",
    "        if i not in m:\n",
    "            m[i] = 1\n",
    "        else:\n",
    "            m[i]+=1\n",
    "    result = []\n",
    "    for i in nums2:\n",
    "        if i in m and m[i]:\n",
    "            m[i]-=1\n",
    "            result.append(i)\n",
    "    return result\n",
    "print(intersect([1,2,2,1],[2,2]))"
   ]
  },
  {
   "cell_type": "code",
   "execution_count": null,
   "id": "c13e244c",
   "metadata": {},
   "outputs": [],
   "source": []
  }
 ],
 "metadata": {
  "kernelspec": {
   "display_name": "Python 3 (ipykernel)",
   "language": "python",
   "name": "python3"
  },
  "language_info": {
   "codemirror_mode": {
    "name": "ipython",
    "version": 3
   },
   "file_extension": ".py",
   "mimetype": "text/x-python",
   "name": "python",
   "nbconvert_exporter": "python",
   "pygments_lexer": "ipython3",
   "version": "3.9.12"
  }
 },
 "nbformat": 4,
 "nbformat_minor": 5
}
