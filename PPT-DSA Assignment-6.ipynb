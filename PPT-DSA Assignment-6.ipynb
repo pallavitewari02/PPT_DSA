{
 "cells": [
  {
   "cell_type": "markdown",
   "id": "d745d119",
   "metadata": {},
   "source": [
    "Q1.A permutation perm of n + 1 integers of all the integers in the range [0, n] can be represented as a string s of length n where:\n",
    "\n",
    "- s[i] == 'I' if perm[i] < perm[i + 1], and\n",
    "- s[i] == 'D' if perm[i] > perm[i + 1].\n",
    "\n",
    "Given a string s, reconstruct the permutation perm and return it. If there are multiple valid permutations perm, return **any of them**.\n",
    "\n",
    "**Example 1:**\n",
    "\n",
    "**Input:** s = \"IDID\"\n",
    "\n",
    "**Output:**\n",
    "\n",
    "[0,4,1,3,2]"
   ]
  },
  {
   "cell_type": "code",
   "execution_count": 1,
   "id": "acd81035",
   "metadata": {},
   "outputs": [
    {
     "name": "stdout",
     "output_type": "stream",
     "text": [
      "[0, 4, 1, 3, 2]\n"
     ]
    }
   ],
   "source": [
    "class Solution:\n",
    "    def diStringMatch(self, S):\n",
    "        A=[i for i in range(len(S)+1)]\n",
    "        return [A.pop((j=='I')-1) for j in S]+A\n",
    "ob = Solution()\n",
    "print(ob.diStringMatch(\"IDID\"))\n"
   ]
  },
  {
   "cell_type": "markdown",
   "id": "88c9836a",
   "metadata": {},
   "source": [
    "Q2.You are given an m x n integer matrix matrix with the following two properties:\n",
    "\n",
    "- Each row is sorted in non-decreasing order.\n",
    "- The first integer of each row is greater than the last integer of the previous row.\n",
    "\n",
    "Given an integer target, return true *if* target *is in* matrix *or* false *otherwise*.\n",
    "\n",
    "You must write a solution in O(log(m * n)) time complexity."
   ]
  },
  {
   "cell_type": "code",
   "execution_count": 3,
   "id": "23abd7ad",
   "metadata": {},
   "outputs": [],
   "source": [
    "def searchMatrix(matrix,target):\n",
    "        if not matrix:\n",
    "            return False\n",
    "\n",
    "        m = len(matrix)\n",
    "        n = len(matrix[0])\n",
    "        l = 0\n",
    "        r = m * n\n",
    "\n",
    "        while l < r:\n",
    "            mid = (l + r) // 2\n",
    "            i = mid // n\n",
    "            j = mid % n\n",
    "            if matrix[i][j] == target:\n",
    "                return True\n",
    "            if matrix[i][j] < target:\n",
    "                l = mid + 1\n",
    "            else:\n",
    "                r = mid\n",
    "\n",
    "        return False"
   ]
  },
  {
   "cell_type": "code",
   "execution_count": 6,
   "id": "d97e69aa",
   "metadata": {},
   "outputs": [
    {
     "data": {
      "text/plain": [
       "True"
      ]
     },
     "execution_count": 6,
     "metadata": {},
     "output_type": "execute_result"
    }
   ],
   "source": [
    "searchMatrix([[1,3,5,7],[10,11,16,20],[23,30,34,60]],3)"
   ]
  },
  {
   "cell_type": "markdown",
   "id": "52d843ba",
   "metadata": {},
   "source": [
    "Q3.Given an array of integers arr, return *true if and only if it is a valid mountain array*.\n",
    "\n",
    "Recall that arr is a mountain array if and only if:\n",
    "\n",
    "- arr.length >= 3\n",
    "- There exists some i with 0 < i < arr.length - 1 such that:\n",
    "    - arr[0] < arr[1] < ... < arr[i - 1] < arr[i]\n",
    "    - arr[i] > arr[i + 1] > ... > arr[arr.length - 1]"
   ]
  },
  {
   "cell_type": "code",
   "execution_count": 5,
   "id": "fb7028bb",
   "metadata": {},
   "outputs": [
    {
     "name": "stdout",
     "output_type": "stream",
     "text": [
      "False\n"
     ]
    }
   ],
   "source": [
    "class Solution:\n",
    "    def validMountainArray(self, A):\n",
    "        if(len(A)<3):\n",
    "            return False\n",
    "            i = 1\n",
    "        while(i<len(A) and A[i]>A[i-1]):\n",
    "            i+=1\n",
    "        if(i==1 or i==len(A)):\n",
    "            return False\n",
    "        while(i<len(A) and A[i]<A[i-1]):\n",
    "            i+=1\n",
    "        return i==len(A)\n",
    "ob = Solution()\n",
    "print(ob.validMountainArray([2,1]))"
   ]
  },
  {
   "cell_type": "markdown",
   "id": "92418f25",
   "metadata": {},
   "source": [
    "Q4.Given a binary array nums, return *the maximum length of a contiguous subarray with an equal number of* 0 *and* 1.\n",
    "\n",
    "**Example 1:**\n",
    "\n",
    "**Input:** nums = [0,1]\n",
    "\n",
    "**Output:** 2"
   ]
  },
  {
   "cell_type": "markdown",
   "id": "1ec90ece",
   "metadata": {},
   "source": [
    "Q5.The **product sum** of two equal-length arrays a and b is equal to the sum of a[i] * b[i] for all 0 <= i < a.length (**0-indexed**).\n",
    "\n",
    "- For example, if a = [1,2,3,4] and b = [5,2,3,1], the **product sum** would be 1*5 + 2*2 + 3*3 + 4*1 = 22.\n",
    "\n",
    "Given two arrays nums1 and nums2 of length n, return *the **minimum product sum** if you are allowed to **rearrange** the **order** of the elements in* nums1.\n",
    "\n",
    "**Example 1:**\n",
    "\n",
    "**Input:** nums1 = [5,3,4,2], nums2 = [4,2,2,5]\n",
    "\n",
    "**Output:** 40"
   ]
  },
  {
   "cell_type": "code",
   "execution_count": 7,
   "id": "2a79963a",
   "metadata": {},
   "outputs": [],
   "source": [
    "def minProductSum(nums1,nums2):\n",
    "    nums1.sort()\n",
    "    nums2.sort()\n",
    "    n, res = len(nums1), 0\n",
    "    for i in range(n):\n",
    "        res += nums1[i] * nums2[n - i - 1]\n",
    "    return res"
   ]
  },
  {
   "cell_type": "code",
   "execution_count": 8,
   "id": "12d2cac2",
   "metadata": {},
   "outputs": [
    {
     "data": {
      "text/plain": [
       "40"
      ]
     },
     "execution_count": 8,
     "metadata": {},
     "output_type": "execute_result"
    }
   ],
   "source": [
    "minProductSum([5,3,4,2],[4,2,2,5])"
   ]
  },
  {
   "cell_type": "markdown",
   "id": "b3dd8de0",
   "metadata": {},
   "source": [
    "Q6.An integer array original is transformed into a **doubled** array changed by appending **twice the value** of every element in original, and then randomly **shuffling** the resulting array.\n",
    "\n",
    "Given an array changed, return original *if* changed *is a **doubled** array. If* changed *is not a **doubled** array, return an empty array. The elements in* original *may be returned in **any** order*.\n",
    "\n",
    "**Example 1:**\n",
    "\n",
    "**Input:** changed = [1,3,4,2,6,8]\n",
    "\n",
    "**Output:** [1,3,4]"
   ]
  },
  {
   "cell_type": "markdown",
   "id": "7240a413",
   "metadata": {},
   "source": [
    "Q7.Given a positive integer n, generate an n x n matrix filled with elements from 1 to n2 in spiral order."
   ]
  },
  {
   "cell_type": "code",
   "execution_count": 10,
   "id": "6b5bacb3",
   "metadata": {},
   "outputs": [],
   "source": [
    "def generateMatrix(n):\n",
    "    ans = [[0] * n for _ in range(n)]\n",
    "    count = 1\n",
    "\n",
    "    for min in range(n // 2):\n",
    "        max = n - min - 1\n",
    "        for i in range(min, max):\n",
    "            ans[min][i] = count\n",
    "            count += 1\n",
    "        for i in range(min, max):\n",
    "            ans[i][max] = count\n",
    "            count += 1\n",
    "        for i in range(max, min, -1):\n",
    "            ans[max][i] = count\n",
    "            count += 1\n",
    "        for i in range(max, min, -1):\n",
    "            ans[i][min] = count\n",
    "            count += 1\n",
    "\n",
    "    if n & 1:\n",
    "        ans[n // 2][n // 2] = count\n",
    "\n",
    "    return ans"
   ]
  },
  {
   "cell_type": "code",
   "execution_count": 11,
   "id": "662d3e55",
   "metadata": {},
   "outputs": [
    {
     "data": {
      "text/plain": [
       "[[1, 2, 3], [8, 9, 4], [7, 6, 5]]"
      ]
     },
     "execution_count": 11,
     "metadata": {},
     "output_type": "execute_result"
    }
   ],
   "source": [
    "generateMatrix(3)"
   ]
  },
  {
   "cell_type": "markdown",
   "id": "755d7867",
   "metadata": {},
   "source": [
    "Q8.Given two sparse matrices mat1 of size m x k and mat2 of size k x n, return the result of mat1 x mat2. You may assume that multiplication is always possible."
   ]
  },
  {
   "cell_type": "code",
   "execution_count": 12,
   "id": "696d8c76",
   "metadata": {},
   "outputs": [],
   "source": [
    "def multiply(A, B):\n",
    "    ret = [[0 for j in range(len(B[0]))] for i in range(len(A))]\n",
    "\n",
    "    for i, row in enumerate(A):\n",
    "        for k, a in enumerate(row):\n",
    "            if a:\n",
    "                for j, b in enumerate(B[k]):\n",
    "                    if b:\n",
    "                        ret[i][j] += a * b\n",
    "    return ret"
   ]
  },
  {
   "cell_type": "code",
   "execution_count": 13,
   "id": "cba5b3e3",
   "metadata": {},
   "outputs": [
    {
     "data": {
      "text/plain": [
       "[[7, 0, 0], [-7, 0, 3]]"
      ]
     },
     "execution_count": 13,
     "metadata": {},
     "output_type": "execute_result"
    }
   ],
   "source": [
    " multiply([[1,0,0],[-1,0,3]],[[7,0,0],[0,0,0],[0,0,1]])"
   ]
  },
  {
   "cell_type": "code",
   "execution_count": null,
   "id": "1551cc20",
   "metadata": {},
   "outputs": [],
   "source": []
  }
 ],
 "metadata": {
  "kernelspec": {
   "display_name": "Python 3 (ipykernel)",
   "language": "python",
   "name": "python3"
  },
  "language_info": {
   "codemirror_mode": {
    "name": "ipython",
    "version": 3
   },
   "file_extension": ".py",
   "mimetype": "text/x-python",
   "name": "python",
   "nbconvert_exporter": "python",
   "pygments_lexer": "ipython3",
   "version": "3.9.12"
  }
 },
 "nbformat": 4,
 "nbformat_minor": 5
}
