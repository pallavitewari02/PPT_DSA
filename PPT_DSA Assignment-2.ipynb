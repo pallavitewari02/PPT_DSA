{
 "cells": [
  {
   "cell_type": "markdown",
   "id": "aa3da1ba",
   "metadata": {},
   "source": [
    "Q1.Given an integer array nums of 2n integers, group these integers into n pairs (a1, b1), (a2, b2),..., (an, bn) such that the sum of min(ai, bi) for all i is maximized. Return the maximized sum.\n",
    "\n",
    "Example 1:\n",
    "Input: nums = [1,4,3,2]\n",
    "Output: 4"
   ]
  },
  {
   "cell_type": "code",
   "execution_count": 2,
   "id": "18d56a61",
   "metadata": {},
   "outputs": [],
   "source": [
    "def arrayPairSum(nums) -> int:\n",
    "        nums.sort() # sort the array\n",
    "        return sum(nums[::2]) "
   ]
  },
  {
   "cell_type": "code",
   "execution_count": 3,
   "id": "e8e0df5b",
   "metadata": {},
   "outputs": [
    {
     "data": {
      "text/plain": [
       "4"
      ]
     },
     "execution_count": 3,
     "metadata": {},
     "output_type": "execute_result"
    }
   ],
   "source": [
    "arrayPairSum([1,4,3,2])"
   ]
  },
  {
   "cell_type": "markdown",
   "id": "db1aad0a",
   "metadata": {},
   "source": [
    "Q2.Alice has n candies, where the ith candy is of type candyType[i]. Alice noticed that she started to gain weight, so she visited a doctor. \n",
    "\n",
    "The doctor advised Alice to only eat n / 2 of the candies she has (n is always even). Alice likes her candies very much, and she wants to eat the maximum number of different types of candies while still following the doctor's advice. \n",
    "\n",
    "Given the integer array candyType of length n, return the maximum number of different types of candies she can eat if she only eats n / 2 of them.\n"
   ]
  },
  {
   "cell_type": "code",
   "execution_count": 6,
   "id": "fdfd0102",
   "metadata": {},
   "outputs": [],
   "source": [
    "def distributeCandies(candyType) -> int:\n",
    "    unique_candies = 0\n",
    "    for i in range(len(candyType)):\n",
    "        for j in range(0, i):\n",
    "            if candyType[i] == candyType[j]:\n",
    "                break\n",
    "            \n",
    "        else:\n",
    "            unique_candies += 1\n",
    "        \n",
    "    return min(unique_candies, len(candyType) // 2)"
   ]
  },
  {
   "cell_type": "code",
   "execution_count": 7,
   "id": "de91aa39",
   "metadata": {},
   "outputs": [
    {
     "data": {
      "text/plain": [
       "3"
      ]
     },
     "execution_count": 7,
     "metadata": {},
     "output_type": "execute_result"
    }
   ],
   "source": [
    "distributeCandies([1,1,2,2,3,3])"
   ]
  },
  {
   "cell_type": "markdown",
   "id": "88252563",
   "metadata": {},
   "source": [
    "Q3.We define a harmonious array as an array where the difference between its maximum value\n",
    "and its minimum value is exactly 1.\n",
    "\n",
    "Given an integer array nums, return the length of its longest harmonious subsequence\n",
    "among all its possible subsequences.\n",
    "\n",
    "A subsequence of an array is a sequence that can be derived from the array by deleting some or no elements without changing the order of the remaining elements."
   ]
  },
  {
   "cell_type": "markdown",
   "id": "7aa212d2",
   "metadata": {},
   "source": [
    "Q4.You have a long flowerbed in which some of the plots are planted, and some are not.\n",
    "However, flowers cannot be planted in adjacent plots.\n",
    "Given an integer array flowerbed containing 0's and 1's, where 0 means empty and 1 means not empty, and an integer n, return true if n new flowers can be planted in the flowerbed without violating the no-adjacent-flowers rule and false otherwise.\n",
    "\n",
    "Example 1:\n",
    "Input: flowerbed = [1,0,0,0,1], n = 1\n",
    "Output: true"
   ]
  },
  {
   "cell_type": "code",
   "execution_count": 19,
   "id": "72f83509",
   "metadata": {},
   "outputs": [],
   "source": [
    "def canPlaceFlowers(flowerbed, n):\n",
    "    for i, flower in enumerate(flowerbed):\n",
    "        if flower == 0 and (i == 0 or flowerbed[i - 1] == 0) and (i == len(flowerbed) - 1 or flowerbed[i + 1] == 0):\n",
    "            flowerbed[i] = 1\n",
    "            n -= 1\n",
    "        if n <= 0:\n",
    "            return True\n",
    "\n",
    "    return False"
   ]
  },
  {
   "cell_type": "code",
   "execution_count": 21,
   "id": "71232281",
   "metadata": {},
   "outputs": [
    {
     "data": {
      "text/plain": [
       "True"
      ]
     },
     "execution_count": 21,
     "metadata": {},
     "output_type": "execute_result"
    }
   ],
   "source": [
    "canPlaceFlowers([1,0,0,0,1],1)"
   ]
  },
  {
   "cell_type": "markdown",
   "id": "c5741e14",
   "metadata": {},
   "source": [
    "Q5.Given an integer array nums, find three numbers whose product is maximum and return the maximum product.\n",
    "\n",
    "Example 1:\n",
    "Input: nums = [1,2,3]\n",
    "Output: 6"
   ]
  },
  {
   "cell_type": "code",
   "execution_count": 22,
   "id": "642397c5",
   "metadata": {},
   "outputs": [],
   "source": [
    "def maximumProduct(nums):\n",
    "    nums.sort()\n",
    "    return max(nums[-1] * nums[0] * nums[1],\n",
    "               nums[-1] * nums[-2] * nums[-3])"
   ]
  },
  {
   "cell_type": "code",
   "execution_count": 23,
   "id": "c489ca5b",
   "metadata": {},
   "outputs": [
    {
     "data": {
      "text/plain": [
       "6"
      ]
     },
     "execution_count": 23,
     "metadata": {},
     "output_type": "execute_result"
    }
   ],
   "source": [
    "maximumProduct([1,2,3])"
   ]
  },
  {
   "cell_type": "code",
   "execution_count": null,
   "id": "cd1881b8",
   "metadata": {},
   "outputs": [],
   "source": [
    "Q6.Question 6\n",
    "Given an array of integers nums which is sorted in ascending order, and an integer target,\n",
    "write a function to search target in nums. If target exists, then return its index. Otherwise,\n",
    "return -1.\n",
    "\n",
    "You must write an algorithm with O(log n) runtime complexity.\n",
    "\n",
    "Input: nums = [-1,0,3,5,9,12], target = 9\n",
    "Output: 4"
   ]
  },
  {
   "cell_type": "code",
   "execution_count": 24,
   "id": "9d3cfa0b",
   "metadata": {},
   "outputs": [],
   "source": [
    "def search(nums, target):\n",
    "    l = 0\n",
    "    r = len(nums)-1\n",
    " \n",
    "    while l<=r:\n",
    "        m = l + (r-l)//2\n",
    "        if nums[m]>target:\n",
    "            r=m-1\n",
    "        elif nums[m]<target:\n",
    "            l=m+1\n",
    "        else:\n",
    "            return m\n",
    "    return -1"
   ]
  },
  {
   "cell_type": "code",
   "execution_count": 25,
   "id": "3681458b",
   "metadata": {},
   "outputs": [
    {
     "data": {
      "text/plain": [
       "4"
      ]
     },
     "execution_count": 25,
     "metadata": {},
     "output_type": "execute_result"
    }
   ],
   "source": [
    "search([-1,0,3,5,9,12],9)"
   ]
  },
  {
   "cell_type": "markdown",
   "id": "965622b7",
   "metadata": {},
   "source": [
    "Q7.An array is monotonic if it is either monotone increasing or monotone decreasing.\n",
    "\n",
    "An array nums is monotone increasing if for all i <= j, nums[i] <= nums[j]. An array nums is\n",
    "monotone decreasing if for all i <= j, nums[i] >= nums[j].\n",
    "\n",
    "Given an integer array nums, return true if the given array is monotonic, or false otherwise.\n",
    "\n",
    "Example 1:\n",
    "Input: nums = [1,2,2,3]\n",
    "Output: true"
   ]
  },
  {
   "cell_type": "code",
   "execution_count": 30,
   "id": "02974f3b",
   "metadata": {},
   "outputs": [],
   "source": [
    "def isMonotonic(A):\n",
    "    x, y = [], []\n",
    "    x.extend(A)\n",
    "    y.extend(A)\n",
    "    x.sort()\n",
    "    y.sort(reverse=True)\n",
    "    if(x == A or y == A):\n",
    "        return True\n",
    "    return False"
   ]
  },
  {
   "cell_type": "code",
   "execution_count": 31,
   "id": "29bb3562",
   "metadata": {},
   "outputs": [
    {
     "data": {
      "text/plain": [
       "True"
      ]
     },
     "execution_count": 31,
     "metadata": {},
     "output_type": "execute_result"
    }
   ],
   "source": [
    "isMonotonic([ 1,2,2,3])"
   ]
  },
  {
   "cell_type": "markdown",
   "id": "1f867d03",
   "metadata": {},
   "source": [
    "Q8.You are given an integer array nums and an integer k.\n",
    "\n",
    "In one operation, you can choose any index i where 0 <= i < nums.length and change nums[i] to nums[i] + x where x is an integer from the range [-k, k]. You can apply this operation at most once for each index i.\n",
    "\n",
    "The score of nums is the difference between the maximum and minimum elements in nums.\n",
    "\n",
    "Return the minimum score of nums after applying the mentioned operation at most once for each index in it."
   ]
  },
  {
   "cell_type": "code",
   "execution_count": null,
   "id": "7e135550",
   "metadata": {},
   "outputs": [],
   "source": []
  }
 ],
 "metadata": {
  "kernelspec": {
   "display_name": "Python 3 (ipykernel)",
   "language": "python",
   "name": "python3"
  },
  "language_info": {
   "codemirror_mode": {
    "name": "ipython",
    "version": 3
   },
   "file_extension": ".py",
   "mimetype": "text/x-python",
   "name": "python",
   "nbconvert_exporter": "python",
   "pygments_lexer": "ipython3",
   "version": "3.9.12"
  }
 },
 "nbformat": 4,
 "nbformat_minor": 5
}
