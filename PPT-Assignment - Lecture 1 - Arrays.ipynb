{
 "cells": [
  {
   "cell_type": "markdown",
   "id": "31c7602b",
   "metadata": {},
   "source": [
    "Q1.Given an array of integers nums and an integer target, return indices of the two numbers such that they add up to target.\n",
    "\n",
    "You may assume that each input would have exactly one solution, and you may not use the same element twice.\n",
    "\n",
    "You can return the answer in any order.\n",
    "\n",
    "Example:\n",
    "Input: nums = [2,7,11,15], target = 9\n",
    "Output0 [0,1]\n",
    "\n",
    "Explanation:Because nums[0] + nums[1] == 9, we return [0, 1]\n"
   ]
  },
  {
   "cell_type": "code",
   "execution_count": 14,
   "id": "4e90882a",
   "metadata": {},
   "outputs": [
    {
     "name": "stdout",
     "output_type": "stream",
     "text": [
      "[0, 1]\n"
     ]
    }
   ],
   "source": [
    "class Sol():\n",
    "    def twosum(self,nums,target):\n",
    "            dict={}\n",
    "            for i in range(len(nums)):\n",
    "                if(target-nums[i] in dict):\n",
    "                    return [dict[target-nums[i]],i]\n",
    "                dict[nums[i]]=i\n",
    "nums = [2,7,11,15]\n",
    "ob1 = Sol()\n",
    "print(ob1.twosum(nums, 9))"
   ]
  },
  {
   "cell_type": "markdown",
   "id": "b730aadd",
   "metadata": {},
   "source": [
    "TC=O(n)\n",
    "SC=O(n)"
   ]
  },
  {
   "cell_type": "markdown",
   "id": "e792488e",
   "metadata": {},
   "source": [
    "Q2. Given an integer array nums and an integer val, remove all occurrences of val in nums in-place. The order of the elements may be changed. Then return the number of elements in nums which are not equal to val.\n",
    "\n",
    "Consider the number of elements in nums which are not equal to val be k, to get accepted, you need to do the following things:\n",
    "\n",
    "- Change the array nums such that the first k elements of nums contain the elements which are not equal to val. The remaining elements of nums are not important as well as the size of nums.\n",
    "- Return k.\n",
    "\n",
    "Example :\n",
    "Input: nums = [3,2,2,3], val = 3\n",
    "Output: 2, nums = [2,2,_*,_*]\n",
    "\n",
    "Explanation: Your function should return k = 2, with the first two elements of nums being 2. It does not matter what you leave beyond the returned k (hence they are underscores)\n",
    "\n"
   ]
  },
  {
   "cell_type": "code",
   "execution_count": 38,
   "id": "37e7d90c",
   "metadata": {},
   "outputs": [
    {
     "name": "stdout",
     "output_type": "stream",
     "text": [
      "(2, [2, 2, '*', '*'])\n"
     ]
    }
   ],
   "source": [
    "class Solution:\n",
    "    def removeElement(self, nums, val):\n",
    "        k = 0\n",
    "        for x in nums:\n",
    "            if x != val:\n",
    "                nums[k] = x\n",
    "                k += 1\n",
    "        nums = nums[: len(nums) - k]\n",
    "        nums.extend(['*','*'])\n",
    "        return k,nums\n",
    "        \n",
    "nums=[3,2,2,3]\n",
    "ob1=Solution()\n",
    "print(ob1.removeElement(nums,3))\n",
    "\n",
    "\n"
   ]
  },
  {
   "cell_type": "markdown",
   "id": "44c2a87f",
   "metadata": {},
   "source": [
    "Q3.Given a sorted array of distinct integers and a target value, return the index if the target is found. If not, return \n",
    "the index where it would be if it were inserted in order.\n",
    "\n",
    "You must write an algorithm with O(log n) runtime complexity.\n",
    "\n",
    "Example 1:\n",
    "Input: nums = [1,3,5,6], target = 5\n",
    "\n",
    "Output: 2\n"
   ]
  },
  {
   "cell_type": "code",
   "execution_count": 47,
   "id": "32c2a63f",
   "metadata": {},
   "outputs": [
    {
     "name": "stdout",
     "output_type": "stream",
     "text": [
      "2\n"
     ]
    }
   ],
   "source": [
    "class sol(object):\n",
    "    def search1(self, nums, target):\n",
    "        low = 0\n",
    "        high = len(nums) - 1\n",
    "        while (low <= high):\n",
    "            mid = int((low + high)/2)\n",
    "            if nums[mid] == target:\n",
    "                return mid\n",
    "            elif target > nums[mid]:\n",
    "                low = mid + 1\n",
    "            else:\n",
    "                high = mid -1\n",
    "        \n",
    "        return low\n",
    "    \n",
    "nums=[1,3,5,6]\n",
    "ob2=sol()\n",
    "print(ob2.search1(nums,5))\n",
    "\n",
    "                \n",
    "    \n",
    "\n",
    "            "
   ]
  },
  {
   "cell_type": "markdown",
   "id": "6844eedb",
   "metadata": {},
   "source": [
    "Q4.You are given a large integer represented as an integer array digits, where each digits[i] is the ith digit of the integer.\n",
    "The digits are ordered from most significant to least significant in left-to-right order. The large integer does not contain \n",
    "any leading 0's.\n",
    "\n",
    "Increment the large integer by one and return the resulting array of digits.\n",
    "\n",
    "Example 1:\n",
    "Input: digits = [1,2,3]\n",
    "Output: [1,2,4]\n",
    "\n",
    "Explanation: The array represents the integer 123.\n",
    "\n",
    "Incrementing by one gives 123 + 1 = 124.\n",
    "Thus, the result should be [1,2,4].\n"
   ]
  },
  {
   "cell_type": "code",
   "execution_count": 48,
   "id": "469ed9f5",
   "metadata": {},
   "outputs": [],
   "source": [
    "def increment(num):\n",
    "    num[len(num)-1]=num[len(num)-1]+1\n",
    "    return num\n",
    "num=[1,2,3]"
   ]
  },
  {
   "cell_type": "markdown",
   "id": "e042f4db",
   "metadata": {},
   "source": [
    "Q5.You are given two integer arrays nums1 and nums2, sorted in non-decreasing order, and two integers m and n, representing the\n",
    "number of elements in nums1 and nums2 respectively.\n",
    "\n",
    "Merge nums1 and nums2 into a single array sorted in non-decreasing order.\n",
    "\n",
    "The final sorted array should not be returned by the function, but instead be stored inside the array nums1. To accommodate this\n",
    ", nums1 has a length of m + n, where the first m elements denote the elements that should be merged, and the last n elements are\n",
    "set to 0 and should be ignored. nums2 has a length of n.\n",
    "\n",
    "Example 1\n",
    "Input: nums1 = [1,2,3,0,0,0], m = 3, nums2 = [2,5,6], n = 3\n",
    "Output: [1,2,2,3,5,6]\n",
    "Explanation: The arrays we are merging are [1,2,3] and [2,5,6].\n",
    "The result of the merge is [1,2,2,3,5,6] with the underlined elements coming from nums1.\n"
   ]
  },
  {
   "cell_type": "code",
   "execution_count": 9,
   "id": "a630653f",
   "metadata": {},
   "outputs": [],
   "source": [
    "def merge(nums1: [1,2,3,0,0,0], m: int, nums2: [2,5,6], n: int) -> None:\n",
    "    k = m + n - 1\n",
    "    i, j = m - 1, n - 1\n",
    "    while j >= 0:\n",
    "        if i >= 0 and nums1[i] > nums2[j]:\n",
    "            nums1[k] = nums1[i]\n",
    "            i -= 1\n",
    "        else:\n",
    "            nums1[k] = nums2[j]\n",
    "            j -= 1\n",
    "        k -= 1"
   ]
  },
  {
   "cell_type": "code",
   "execution_count": 11,
   "id": "71fd58a9",
   "metadata": {},
   "outputs": [],
   "source": [
    "merge([1,2,3,0,0,0],3,[2,5,6],3)"
   ]
  },
  {
   "cell_type": "markdown",
   "id": "fbd62f76",
   "metadata": {},
   "source": [
    "Q6.Given an integer array nums, return true if any value appears at least twice in the array, and return false if every element is distinct.\n",
    "\n",
    "**Example 1:**\n",
    "Input: nums = [1,2,3,1]\n",
    "\n",
    "Output: true\n"
   ]
  },
  {
   "cell_type": "code",
   "execution_count": 12,
   "id": "632b0652",
   "metadata": {},
   "outputs": [],
   "source": [
    "def checkDuplicatesWithinK(arr, n, k):\n",
    "    myset = []\n",
    "    for i in range(n):\n",
    "        if arr[i] in myset:\n",
    "            return True\n",
    " \n",
    "      \n",
    "        myset.append(arr[i])\n",
    " \n",
    "       \n",
    "        if (i >= k):\n",
    "            myset.remove(arr[i - k])\n",
    "    return False"
   ]
  },
  {
   "cell_type": "code",
   "execution_count": 13,
   "id": "968035c8",
   "metadata": {},
   "outputs": [
    {
     "data": {
      "text/plain": [
       "True"
      ]
     },
     "execution_count": 13,
     "metadata": {},
     "output_type": "execute_result"
    }
   ],
   "source": [
    "checkDuplicatesWithinK( [1,2,3,1],4,3)"
   ]
  },
  {
   "cell_type": "markdown",
   "id": "627fa645",
   "metadata": {},
   "source": [
    "Q7.Given an integer array nums, move all 0's to the end of it while maintaining the relative order of the nonzero elements.\n",
    "\n",
    "Note that you must do this in-place without making a copy of the array.\n",
    "\n",
    "**Example 1:**\n",
    "Input: nums = [0,1,0,3,12]\n",
    "Output: [1,3,12,0,0]\n",
    "\n"
   ]
  },
  {
   "cell_type": "code",
   "execution_count": 18,
   "id": "511b2b08",
   "metadata": {},
   "outputs": [],
   "source": [
    "def pushZerosToEnd(arr, n):\n",
    "    count = 0 # Count of non-zero elements\n",
    "    for i in range(n):\n",
    "        if arr[i] != 0:\n",
    "            arr[count] = arr[i]\n",
    "            count+=1\n",
    "     \n",
    "    \n",
    "   \n",
    "    while count < n:\n",
    "        arr[count] = 0\n",
    "        count += 1\n",
    "    print(arr)"
   ]
  },
  {
   "cell_type": "code",
   "execution_count": 19,
   "id": "5e8f2edc",
   "metadata": {},
   "outputs": [
    {
     "name": "stdout",
     "output_type": "stream",
     "text": [
      "[1, 3, 12, 0, 0]\n"
     ]
    }
   ],
   "source": [
    "pushZerosToEnd([0,1,0,3,12],5)"
   ]
  },
  {
   "cell_type": "markdown",
   "id": "16bc13e1",
   "metadata": {},
   "source": [
    "Q8.You have a set of integers s, which originally contains all the numbers from 1 to n. Unfortunately, due to some error, one of the numbers in s got duplicated to another number in the set, which results in repetition of one number and loss of another number.\n",
    "\n",
    "You are given an integer array nums representing the data status of this set after the error.\n",
    "\n",
    "Find the number that occurs twice and the number that is missing and return them in the form of an array.\n",
    "\n",
    "**Example 1:**\n",
    "Input: nums = [1,2,2,4]\n",
    "Output: [2,3]\n",
    "\n"
   ]
  },
  {
   "cell_type": "code",
   "execution_count": 20,
   "id": "c8972602",
   "metadata": {},
   "outputs": [],
   "source": [
    "def printTwoElements(arr):\n",
    "    n = len(arr)\n",
    "    temp = [0] * n  # Creating temp array of size n with initial values as 0.\n",
    "    repeatingNumber = -1\n",
    "    missingNumber = -1\n",
    " \n",
    "    for i in range(n):\n",
    "        temp[arr[i] - 1] += 1\n",
    "        if temp[arr[i] - 1] > 1:\n",
    "            repeatingNumber = arr[i]\n",
    "    for i in range(n):\n",
    "        if temp[i] == 0:\n",
    "            missingNumber = i + 1\n",
    "            break\n",
    " \n",
    "    print(\"The repeating number is\", repeatingNumber, \".\")\n",
    "    print(\"The missing number is\", missingNumber, \".\")"
   ]
  },
  {
   "cell_type": "code",
   "execution_count": 21,
   "id": "2526c491",
   "metadata": {},
   "outputs": [
    {
     "name": "stdout",
     "output_type": "stream",
     "text": [
      "The repeating number is 2 .\n",
      "The missing number is 3 .\n"
     ]
    }
   ],
   "source": [
    "printTwoElements([1,2,2,4])"
   ]
  },
  {
   "cell_type": "code",
   "execution_count": null,
   "id": "4ea4875d",
   "metadata": {},
   "outputs": [],
   "source": []
  }
 ],
 "metadata": {
  "kernelspec": {
   "display_name": "Python 3 (ipykernel)",
   "language": "python",
   "name": "python3"
  },
  "language_info": {
   "codemirror_mode": {
    "name": "ipython",
    "version": 3
   },
   "file_extension": ".py",
   "mimetype": "text/x-python",
   "name": "python",
   "nbconvert_exporter": "python",
   "pygments_lexer": "ipython3",
   "version": "3.9.12"
  }
 },
 "nbformat": 4,
 "nbformat_minor": 5
}
