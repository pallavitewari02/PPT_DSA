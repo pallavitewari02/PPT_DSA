{
 "cells": [
  {
   "cell_type": "markdown",
   "id": "ce13e716",
   "metadata": {},
   "source": [
    "Q1.Given an integer array nums of length n and an integer target, find three integers\n",
    "in nums such that the sum is closest to the target.\n",
    "Return the sum of the three integers.\n",
    "\n",
    "You may assume that each input would have exactly one solution.\n",
    "\n",
    "Example 1:\n",
    "Input: nums = [-1,2,1,-4], target = 1\n",
    "Output: 2"
   ]
  },
  {
   "cell_type": "code",
   "execution_count": 3,
   "id": "3178cae1",
   "metadata": {},
   "outputs": [],
   "source": [
    "def threeSumClosest(nums, target):\n",
    "    ans = nums[0] + nums[1] + nums[2]\n",
    "    nums.sort()\n",
    "\n",
    "    for i in range(len(nums) - 2):\n",
    "      if i > 0 and nums[i] == nums[i - 1]:\n",
    "        continue\n",
    "      l = i + 1\n",
    "      r = len(nums) - 1\n",
    "      while l < r:\n",
    "        summ = nums[i] + nums[l] + nums[r]\n",
    "        if summ == target:\n",
    "          return summ\n",
    "        if abs(summ - target) < abs(ans - target):\n",
    "          ans = summ\n",
    "        if summ < target:\n",
    "          l += 1\n",
    "        else:\n",
    "          r -= 1\n",
    "    return ans"
   ]
  },
  {
   "cell_type": "code",
   "execution_count": 4,
   "id": "b8f9eb37",
   "metadata": {},
   "outputs": [
    {
     "data": {
      "text/plain": [
       "2"
      ]
     },
     "execution_count": 4,
     "metadata": {},
     "output_type": "execute_result"
    }
   ],
   "source": [
    "threeSumClosest([-1,2,1,-4],1)"
   ]
  },
  {
   "cell_type": "markdown",
   "id": "02fe328e",
   "metadata": {},
   "source": [
    "Q2.Given an array nums of n integers, return an array of all the unique quadruplets\n",
    "[nums[a], nums[b], nums[c], nums[d]] such that:\n",
    "           ● 0 <= a, b, c, d < n\n",
    "           ● a, b, c, and d are distinct.\n",
    "           ● nums[a] + nums[b] + nums[c] + nums[d] == target\n",
    "\n",
    "You may return the answer in any order."
   ]
  },
  {
   "cell_type": "code",
   "execution_count": null,
   "id": "d6189e81",
   "metadata": {},
   "outputs": [],
   "source": [
    "class Solution(object):\n",
    "    def fourSumCount(self, A, B, C, D):\n",
    "      sums ={}\n",
    "      for i in A:\n",
    "         for j in B:\n",
    "            if i+j not in sums:\n",
    "               sums[i+j] = 1\n",
    "            else:\n",
    "               sums[i+j] +=1\n",
    "      counter = 0\n",
    "      for i in C:\n",
    "         for j in D:\n",
    "            if -1 * (i+j) in sums:\n",
    "               #print(-1 * (i+j))\n",
    "               counter+=sums[-1*(i+j)]\n",
    "      return counter\n",
    "ob1 = Solution()\n",
    "print(ob1.fourSumCount([1,2], [-2,-1], [-1,2], [0,2]))"
   ]
  },
  {
   "cell_type": "markdown",
   "id": "f7ae95dc",
   "metadata": {},
   "source": [
    "Q3.A permutation of an array of integers is an arrangement of its members into a\n",
    "sequence or linear order.\n",
    "\n",
    "For example, for arr = [1,2,3], the following are all the permutations of arr:\n",
    "[1,2,3], [1,3,2], [2, 1, 3], [2, 3, 1], [3,1,2], [3,2,1].\n",
    "\n",
    "The next permutation of an array of integers is the next lexicographically greater\n",
    "permutation of its integer. More formally, if all the permutations of the array are\n",
    "sorted in one container according to their lexicographical order, then the next\n",
    "permutation of that array is the permutation that follows it in the sorted container.\n",
    "\n",
    "If such an arrangement is not possible, the array must be rearranged as the\n",
    "lowest possible order (i.e., sorted in ascending order).\n",
    "\n",
    "● For example, the next permutation of arr = [1,2,3] is [1,3,2].\n",
    "● Similarly, the next permutation of arr = [2,3,1] is [3,1,2].\n",
    "● While the next permutation of arr = [3,2,1] is [1,2,3] because [3,2,1] does not\n",
    "have a lexicographical larger rearrangement.\n",
    "\n",
    "Given an array of integers nums, find the next permutation of nums.\n",
    "The replacement must be in place and use only constant extra memory.\n",
    "\n",
    "**Example 1:**\n",
    "Input: nums = [1,2,3]\n",
    "Output: [1,3,2]\n",
    "\n"
   ]
  },
  {
   "cell_type": "code",
   "execution_count": 9,
   "id": "5b7f50cd",
   "metadata": {},
   "outputs": [
    {
     "name": "stdout",
     "output_type": "stream",
     "text": [
      "None\n"
     ]
    }
   ],
   "source": [
    "class Solution(object):\n",
    "    def nextPermutation(self, nums):\n",
    "        found = False\n",
    "        i = len(nums)-2\n",
    "        while i >=0:\n",
    "            if nums[i] < nums[i+1]:\n",
    "                found =True\n",
    "                break\n",
    "            i-=1\n",
    "            if not found:\n",
    "                nums.sort()\n",
    "            else:\n",
    "                m = self.findMaxIndex(i+1,nums,nums[i])\n",
    "                nums[i],nums[m] = nums[m],nums[i]\n",
    "                nums[i+1:] = nums[i+1:][::-1]\n",
    "            return nums\n",
    "    def findMaxIndex(self,index,a,curr):\n",
    "        ans = -1\n",
    "        index = 0\n",
    "        for i in range(index,len(a)):\n",
    "            if a[i]>curr:\n",
    "                if ans == -1:\n",
    "                    ans = curr\n",
    "                    index = i\n",
    "                else:\n",
    "                    ans = min(ans,a[i])\n",
    "                    index = i\n",
    "        return index\n",
    "ob1 = Solution()\n",
    "print(ob1.nextPermutation([1,2,3]))"
   ]
  },
  {
   "cell_type": "markdown",
   "id": "e99428ef",
   "metadata": {},
   "source": [
    "Q4,Given a sorted array of distinct integers and a target value, return the index if the\n",
    "target is found. If not, return the index where it would be if it were inserted in\n",
    "order.\n",
    "\n",
    "You must write an algorithm with O(log n) runtime complexity.\n",
    "\n",
    "Example 1:\n",
    "Input: nums = [1,3,5,6], target = 5\n",
    "Output: 2"
   ]
  },
  {
   "cell_type": "code",
   "execution_count": 11,
   "id": "3b80090d",
   "metadata": {},
   "outputs": [],
   "source": [
    "def searchInsert(nums, target):\n",
    "    left = 0\n",
    "    right = len(nums) - 1\n",
    "        \n",
    "    while left <= right:\n",
    "        mid = (left + right) // 2\n",
    "            \n",
    "        if nums[mid] == target:\n",
    "            return mid\n",
    "        elif target > nums[mid]:\n",
    "            left = mid + 1\n",
    "        else:\n",
    "            right = mid - 1\n",
    "        \n",
    "    return left"
   ]
  },
  {
   "cell_type": "code",
   "execution_count": 12,
   "id": "14582600",
   "metadata": {},
   "outputs": [
    {
     "data": {
      "text/plain": [
       "2"
      ]
     },
     "execution_count": 12,
     "metadata": {},
     "output_type": "execute_result"
    }
   ],
   "source": [
    "searchInsert([1,3,5,6],5)"
   ]
  },
  {
   "cell_type": "markdown",
   "id": "095aab4c",
   "metadata": {},
   "source": [
    "Q5.You are given a large integer represented as an integer array digits, where each\n",
    "digits[i] is the ith digit of the integer. The digits are ordered from most significant\n",
    "to least significant in left-to-right order. The large integer does not contain any\n",
    "leading 0's.\n",
    "\n",
    "Increment the large integer by one and return the resulting array of digits.\n",
    "\n",
    "**Example 1:**\n",
    "Input: digits = [1,2,3]\n",
    "Output: [1,2,4]\n",
    "\n",
    "**Explanation:** The array represents the integer 123.\n",
    "Incrementing by one gives 123 + 1 = 124.\n",
    "Thus, the result should be [1,2,4].\n"
   ]
  },
  {
   "cell_type": "code",
   "execution_count": 13,
   "id": "0e6e6a01",
   "metadata": {},
   "outputs": [],
   "source": [
    "def plusOne(digits):\n",
    "    n = len(digits) - 1\n",
    "    while digits[n] == 9:\n",
    "        digits[n] = 0\n",
    "        n = n - 1\n",
    "    if n < 0:\n",
    "        digits = [1] + digits\n",
    "    else:\n",
    "        digits[n] = digits[n] + 1\n",
    "    return digits"
   ]
  },
  {
   "cell_type": "code",
   "execution_count": 15,
   "id": "f6969b15",
   "metadata": {},
   "outputs": [
    {
     "data": {
      "text/plain": [
       "[1, 2, 4]"
      ]
     },
     "execution_count": 15,
     "metadata": {},
     "output_type": "execute_result"
    }
   ],
   "source": [
    "plusOne([1,2,3])"
   ]
  },
  {
   "cell_type": "markdown",
   "id": "71575de1",
   "metadata": {},
   "source": [
    "Q6.Given a non-empty array of integers nums, every element appears twice except\n",
    "for one. Find that single one.\n",
    "\n",
    "You must implement a solution with a linear runtime complexity and use only\n",
    "constant extra space.\n",
    "\n",
    "Example 1:\n",
    "Input: nums = [2,2,1]\n",
    "Output: 1"
   ]
  },
  {
   "cell_type": "code",
   "execution_count": 16,
   "id": "63a9f9d9",
   "metadata": {},
   "outputs": [
    {
     "name": "stdout",
     "output_type": "stream",
     "text": [
      "1\n"
     ]
    }
   ],
   "source": [
    "class Solution(object):\n",
    "    def singleNumber(self, nums):\n",
    "        ans = nums[0]\n",
    "        for i in range(1,len(nums)):\n",
    "            ans ^=nums[i]\n",
    "        return ans\n",
    "ob1 = Solution()\n",
    "print(ob1.singleNumber([2,2,1]))"
   ]
  },
  {
   "cell_type": "markdown",
   "id": "dfbb5f8f",
   "metadata": {},
   "source": [
    "Q7.You are given an inclusive range [lower, upper] and a sorted unique integer array\n",
    "nums, where all elements are within the inclusive range.\n",
    "\n",
    "A number x is considered missing if x is in the range [lower, upper] and x is not in\n",
    "nums.\n",
    "\n",
    "Return the shortest sorted list of ranges that exactly covers all the missing\n",
    "numbers. That is, no element of nums is included in any of the ranges, and each\n",
    "missing number is covered by one of the ranges.\n",
    "\n",
    "Example 1:\n",
    "Input: nums = [0,1,3,50,75], lower = 0, upper = 99\n",
    "Output: [[2,2],[4,49],[51,74],[76,99]]"
   ]
  },
  {
   "cell_type": "code",
   "execution_count": 17,
   "id": "64584a41",
   "metadata": {},
   "outputs": [],
   "source": [
    "def summaryRanges(nums):\n",
    "    start_index = 0\n",
    "    result = []\n",
    "\n",
    "    for i in range(len(nums)):\n",
    "        # Find last index for continuous series\n",
    "        if i + 1 < len(nums) and nums[i] + 1 == nums[i+1]:\n",
    "            continue\n",
    "\n",
    "        if start_index == i:\n",
    "            result.append(str(nums[start_index]))\n",
    "        else:\n",
    "            result.append(str(nums[start_index]) + \"->\" + str(nums[i]))\n",
    "\n",
    "        start_index = i + 1\n",
    "\n",
    "    return result"
   ]
  },
  {
   "cell_type": "code",
   "execution_count": 18,
   "id": "9ab37c7b",
   "metadata": {},
   "outputs": [
    {
     "data": {
      "text/plain": [
       "['0->1', '3', '50', '75']"
      ]
     },
     "execution_count": 18,
     "metadata": {},
     "output_type": "execute_result"
    }
   ],
   "source": [
    "summaryRanges([0,1,3,50,75])"
   ]
  },
  {
   "cell_type": "markdown",
   "id": "b965229e",
   "metadata": {},
   "source": [
    "Q8.Given an array of meeting time intervals where intervals[i] = [starti, endi],\n",
    "determine if a person could attend all meetings.\n",
    "\n",
    "**Example 1:**\n",
    "Input: intervals = [[0,30],[5,10],[15,20]]\n",
    "Output: false\n",
    "\n"
   ]
  },
  {
   "cell_type": "code",
   "execution_count": 19,
   "id": "f99f317b",
   "metadata": {},
   "outputs": [],
   "source": [
    "def canAttendMeetings(intervals):\n",
    "        new_intervals = sorted(intervals, key=lambda x: x[0])\n",
    "        for i in range(1,len(new_intervals)):\n",
    "            if new_intervals[i-1][1] > new_intervals[i][0]:return False\n",
    "        return True"
   ]
  },
  {
   "cell_type": "code",
   "execution_count": 20,
   "id": "39ba3372",
   "metadata": {},
   "outputs": [
    {
     "data": {
      "text/plain": [
       "False"
      ]
     },
     "execution_count": 20,
     "metadata": {},
     "output_type": "execute_result"
    }
   ],
   "source": [
    "canAttendMeetings([[0,30],[5,10],[15,20]])"
   ]
  },
  {
   "cell_type": "code",
   "execution_count": null,
   "id": "3b4c1e80",
   "metadata": {},
   "outputs": [],
   "source": []
  }
 ],
 "metadata": {
  "kernelspec": {
   "display_name": "Python 3 (ipykernel)",
   "language": "python",
   "name": "python3"
  },
  "language_info": {
   "codemirror_mode": {
    "name": "ipython",
    "version": 3
   },
   "file_extension": ".py",
   "mimetype": "text/x-python",
   "name": "python",
   "nbconvert_exporter": "python",
   "pygments_lexer": "ipython3",
   "version": "3.9.12"
  }
 },
 "nbformat": 4,
 "nbformat_minor": 5
}
