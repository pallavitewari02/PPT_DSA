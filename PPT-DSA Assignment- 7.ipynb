{
 "cells": [
  {
   "cell_type": "markdown",
   "id": "0199612e",
   "metadata": {},
   "source": [
    "Q1.Given two strings s and t, *determine if they are isomorphic*.\n",
    "\n",
    "Two strings s and t are isomorphic if the characters in s can be replaced to get t.\n",
    "\n",
    "All occurrences of a character must be replaced with another character while preserving the order of characters. No two characters may map to the same character, but a character may map to itself."
   ]
  },
  {
   "cell_type": "code",
   "execution_count": 1,
   "id": "6fab303d",
   "metadata": {},
   "outputs": [],
   "source": [
    "def isIsomorphic(str1, str2):          \n",
    "    dict_str1 = {}\n",
    "    dict_str2 = {}\n",
    "    \n",
    "    for i, value in enumerate(str1):\n",
    "        dict_str1[value] = dict_str1.get(value, []) + [i]\n",
    "            \n",
    "    for j, value in enumerate(str2):\n",
    "        dict_str2[value] = dict_str2.get(value, []) + [j]\n",
    "    \n",
    "    if sorted(dict_str1.values()) == sorted(dict_str2.values()):\n",
    "        return True\n",
    "    else:\n",
    "        return False"
   ]
  },
  {
   "cell_type": "code",
   "execution_count": 2,
   "id": "53ec54ff",
   "metadata": {},
   "outputs": [
    {
     "data": {
      "text/plain": [
       "True"
      ]
     },
     "execution_count": 2,
     "metadata": {},
     "output_type": "execute_result"
    }
   ],
   "source": [
    "isIsomorphic(\"egg\",\"add\")"
   ]
  },
  {
   "cell_type": "markdown",
   "id": "5d658805",
   "metadata": {},
   "source": [
    "Q2.Given a string num which represents an integer, return true *if* num *is a **strobogrammatic number***.\n",
    "\n",
    "A **strobogrammatic number** is a number that looks the same when rotated 180 degrees (looked at upside down)."
   ]
  },
  {
   "cell_type": "code",
   "execution_count": 3,
   "id": "8bce3c1e",
   "metadata": {},
   "outputs": [],
   "source": [
    "def isStrobogrammatic(num):\n",
    "      \n",
    "        maps = {(\"0\", \"0\"), (\"1\", \"1\"), (\"6\", \"9\"), (\"8\", \"8\"), (\"9\", \"6\")}\n",
    "        i,j = 0, len(num) - 1\n",
    "        while i <= j:\n",
    "            if (num[i], num[j]) not in maps:\n",
    "                return False\n",
    "            i += 1\n",
    "            j -= 1\n",
    "        return True"
   ]
  },
  {
   "cell_type": "code",
   "execution_count": 5,
   "id": "90e0b5d3",
   "metadata": {},
   "outputs": [
    {
     "data": {
      "text/plain": [
       "True"
      ]
     },
     "execution_count": 5,
     "metadata": {},
     "output_type": "execute_result"
    }
   ],
   "source": [
    "isStrobogrammatic(\"69\")"
   ]
  },
  {
   "cell_type": "markdown",
   "id": "9262ec1d",
   "metadata": {},
   "source": [
    "Q3.Given two non-negative integers, num1 and num2 represented as string, return *the sum of* num1 *and* num2 *as a string*.\n",
    "\n",
    "You must solve the problem without using any built-in library for handling large integers (such as BigInteger). You must also not convert the inputs to integers directly."
   ]
  },
  {
   "cell_type": "code",
   "execution_count": 6,
   "id": "ef204024",
   "metadata": {},
   "outputs": [],
   "source": [
    "def addStrings(num1, num2):\n",
    "    ans = []\n",
    "    carry = 0\n",
    "    i = len(num1) - 1\n",
    "    j = len(num2) - 1\n",
    "\n",
    "    while i >= 0 or j >= 0 or carry:\n",
    "        if i >= 0:\n",
    "            carry += int(num1[i])\n",
    "        if j >= 0:\n",
    "            carry += int(num2[j])\n",
    "        ans.append(str(carry % 10))\n",
    "        carry //= 10\n",
    "        i -= 1\n",
    "        j -= 1\n",
    "\n",
    "    return ''.join(ans[::-1])"
   ]
  },
  {
   "cell_type": "code",
   "execution_count": 7,
   "id": "c8909dd0",
   "metadata": {},
   "outputs": [
    {
     "data": {
      "text/plain": [
       "'134'"
      ]
     },
     "execution_count": 7,
     "metadata": {},
     "output_type": "execute_result"
    }
   ],
   "source": [
    "addStrings(\"11\",\"123\")"
   ]
  },
  {
   "cell_type": "markdown",
   "id": "60738dbc",
   "metadata": {},
   "source": [
    "Q4.Given a string s, reverse the order of characters in each word within a sentence while still preserving whitespace and initial word order."
   ]
  },
  {
   "cell_type": "code",
   "execution_count": 9,
   "id": "3b1f1285",
   "metadata": {},
   "outputs": [
    {
     "name": "stdout",
     "output_type": "stream",
     "text": [
      "code practice quiz python\n"
     ]
    }
   ],
   "source": [
    "string = \"python quiz practice code\"\n",
    "# reversing words in a given string\n",
    "s = string.split()[::-1]\n",
    "l = []\n",
    "for i in s:\n",
    "    # appending reversed words to l\n",
    "    l.append(i)\n",
    "# printing reverse words\n",
    "print(\" \".join(l))"
   ]
  },
  {
   "cell_type": "markdown",
   "id": "ce00fadd",
   "metadata": {},
   "source": [
    "Q5.Given a string s and an integer k, reverse the first k characters for every 2k characters counting from the start of the string.\n",
    "\n",
    "If there are fewer than k characters left, reverse all of them. If there are less than 2k but greater than or equal to k characters, then reverse the first k characters and leave the other as original."
   ]
  },
  {
   "cell_type": "code",
   "execution_count": 12,
   "id": "5e57dbef",
   "metadata": {},
   "outputs": [],
   "source": [
    "def revAlternateK(s, k, Len):\n",
    "    i = 0\n",
    "     \n",
    "    while(i < len(s)):\n",
    " \n",
    "        # If there are less than k characters\n",
    "        # starting from the current position\n",
    "        if (i + k > Len):\n",
    "            break\n",
    " \n",
    "        # Reverse first k characters\n",
    "        ss = s[i:i + k]\n",
    "        s = s[:i]+ss[::-1]+s[i + k:]\n",
    "         \n",
    "        # Skip the next k characters\n",
    "        i += 2 * k\n",
    "     \n",
    "    return s;"
   ]
  },
  {
   "cell_type": "code",
   "execution_count": 14,
   "id": "a2abaa1d",
   "metadata": {},
   "outputs": [
    {
     "data": {
      "text/plain": [
       "'bacdfeg'"
      ]
     },
     "execution_count": 14,
     "metadata": {},
     "output_type": "execute_result"
    }
   ],
   "source": [
    "revAlternateK(\"abcdefg\",2,7)"
   ]
  },
  {
   "cell_type": "markdown",
   "id": "a2364e8e",
   "metadata": {},
   "source": [
    "Q6.Given two strings s and goal, return true *if and only if* s *can become* goal *after some number of **shifts** on* s.\n",
    "\n",
    "A **shift** on s consists of moving the leftmost character of s to the rightmost position.\n",
    "\n",
    "- For example, if s = \"abcde\", then it will be \"bcdea\" after one shift."
   ]
  },
  {
   "cell_type": "code",
   "execution_count": 16,
   "id": "9cff2ee4",
   "metadata": {},
   "outputs": [],
   "source": [
    "def  rotateString(s,  goal) :\n",
    "    return (len(s) == len(goal) and  goal in (s + s) )"
   ]
  },
  {
   "cell_type": "code",
   "execution_count": 17,
   "id": "bf53c930",
   "metadata": {},
   "outputs": [
    {
     "data": {
      "text/plain": [
       "True"
      ]
     },
     "execution_count": 17,
     "metadata": {},
     "output_type": "execute_result"
    }
   ],
   "source": [
    "rotateString(\"abcde\",\"cdeab\")"
   ]
  },
  {
   "cell_type": "markdown",
   "id": "8566a250",
   "metadata": {},
   "source": [
    "Q7.Given two strings s and t, return true *if they are equal when both are typed into empty text editors*. '#' means a backspace character.\n",
    "\n",
    "Note that after backspacing an empty text, the text will continue empty."
   ]
  },
  {
   "cell_type": "code",
   "execution_count": 21,
   "id": "87b63afa",
   "metadata": {},
   "outputs": [],
   "source": [
    "def backspaceCompare(S, T):\n",
    "    if S == T:\n",
    "        return True\n",
    "    s_stack = []\n",
    "    t_stack = []\n",
    "    for c in S:\n",
    "        if c != '#':\n",
    "            s_stack.append(c)\n",
    "        elif len(s_stack) != 0:\n",
    "            s_stack.pop(-1)\n",
    "    for c in T:\n",
    "        if c != '#':\n",
    "            t_stack.append(c)\n",
    "        elif len(t_stack) != 0:\n",
    "            t_stack.pop(-1)\n",
    "    return ''.join(s_stack) == ''.join(t_stack)"
   ]
  },
  {
   "cell_type": "code",
   "execution_count": 22,
   "id": "1051c85c",
   "metadata": {},
   "outputs": [
    {
     "data": {
      "text/plain": [
       "True"
      ]
     },
     "execution_count": 22,
     "metadata": {},
     "output_type": "execute_result"
    }
   ],
   "source": [
    "backspaceCompare(\"ab#c\",\"ad#c\")"
   ]
  },
  {
   "cell_type": "markdown",
   "id": "32478ef2",
   "metadata": {},
   "source": [
    "Q8.You are given an array coordinates, coordinates[i] = [x, y], where [x, y] represents the coordinate of a point. Check if these points make a straight line in the XY plane."
   ]
  },
  {
   "cell_type": "code",
   "execution_count": 23,
   "id": "ac5950f7",
   "metadata": {},
   "outputs": [],
   "source": [
    "def checkStraightLine(coordinates):\n",
    "        (x0,y0), (x1,y1) = coordinates[:2]\n",
    "        \n",
    "        return all((x1-x0) * (y-y1) == (x-x1) * (y1-y0) for x,y in coordinates)"
   ]
  },
  {
   "cell_type": "code",
   "execution_count": 25,
   "id": "0a97d5fa",
   "metadata": {},
   "outputs": [
    {
     "data": {
      "text/plain": [
       "True"
      ]
     },
     "execution_count": 25,
     "metadata": {},
     "output_type": "execute_result"
    }
   ],
   "source": [
    "checkStraightLine([[1,2],[2,3],[3,4],[4,5],[5,6],[6,7]])"
   ]
  },
  {
   "cell_type": "code",
   "execution_count": null,
   "id": "59c292bc",
   "metadata": {},
   "outputs": [],
   "source": []
  }
 ],
 "metadata": {
  "kernelspec": {
   "display_name": "Python 3 (ipykernel)",
   "language": "python",
   "name": "python3"
  },
  "language_info": {
   "codemirror_mode": {
    "name": "ipython",
    "version": 3
   },
   "file_extension": ".py",
   "mimetype": "text/x-python",
   "name": "python",
   "nbconvert_exporter": "python",
   "pygments_lexer": "ipython3",
   "version": "3.9.12"
  }
 },
 "nbformat": 4,
 "nbformat_minor": 5
}
