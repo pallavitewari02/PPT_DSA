{
 "cells": [
  {
   "cell_type": "markdown",
   "id": "221f76d6",
   "metadata": {},
   "source": [
    "Q1.Convert 1D Array Into 2D Array\n",
    "\n",
    "You are given a **0-indexed** 1-dimensional (1D) integer array original, and two integers, m and n. You are tasked with creating a 2-dimensional (2D) array with  m rows and n columns using **all** the elements from original.\n",
    "\n",
    "The elements from indices 0 to n - 1 (**inclusive**) of original should form the first row of the constructed 2D array, the elements from indices n to 2 * n - 1 (**inclusive**) should form the second row of the constructed 2D array, and so on.\n",
    "\n",
    "Return *an* m x n *2D array constructed according to the above procedure, or an empty 2D array if it is impossible*."
   ]
  },
  {
   "cell_type": "code",
   "execution_count": 2,
   "id": "badb77b3",
   "metadata": {},
   "outputs": [
    {
     "name": "stdout",
     "output_type": "stream",
     "text": [
      "After reshaping having dimension 4x2:\n",
      "[[1 2 3 4]]\n",
      "\n",
      "\n",
      "After reshaping having dimension 2x4:\n",
      "[[1 2]\n",
      " [3 4]]\n",
      "\n",
      "\n"
     ]
    }
   ],
   "source": [
    "import numpy as np\n",
    "# 1-D array having elements [1,2,3,4]\n",
    "arr = np.array([1,2,3,4])\n",
    " \n",
    "# Now we can convert this 1-D array into 2-D in two ways\n",
    " \n",
    "# 1. having dimension 1 x 4\n",
    "arr1 = arr.reshape(1, 4)\n",
    "print ('After reshaping having dimension 4x2:')\n",
    "print (arr1)\n",
    "print ('\\n')\n",
    " \n",
    "# 2. having dimension 2 x 2\n",
    "arr2 = arr.reshape(2, 2)\n",
    "print ('After reshaping having dimension 2x4:')\n",
    "print (arr2)\n",
    "print ('\\n')"
   ]
  },
  {
   "cell_type": "markdown",
   "id": "0935908d",
   "metadata": {},
   "source": [
    "Q2.You have n coins and you want to build a staircase with these coins. The staircase consists of k rows where the ith row has exactly i coins. The last row of the staircase may be incomplete."
   ]
  },
  {
   "cell_type": "code",
   "execution_count": 3,
   "id": "13a63d69",
   "metadata": {},
   "outputs": [],
   "source": [
    "def arrangeCoins(n):\n",
    "    rows = 0\n",
    "    i = 1\n",
    "        \n",
    "    while n >= i:\n",
    "        n-=i\n",
    "        rows+=1\n",
    "        i+=1\n",
    "               \n",
    "    return rows"
   ]
  },
  {
   "cell_type": "code",
   "execution_count": 4,
   "id": "b6eba8ea",
   "metadata": {},
   "outputs": [
    {
     "data": {
      "text/plain": [
       "2"
      ]
     },
     "execution_count": 4,
     "metadata": {},
     "output_type": "execute_result"
    }
   ],
   "source": [
    "arrangeCoins(5)"
   ]
  },
  {
   "cell_type": "markdown",
   "id": "047367ed",
   "metadata": {},
   "source": [
    "Q3.Given an integer array nums sorted in **non-decreasing** order, return *an array of **the squares of each number** sorted in non-decreasing order*.\n",
    "\n",
    "**Example 1:**\n",
    "\n",
    "**Input:** nums = [-4,-1,0,3,10]\n",
    "\n",
    "**Output:** [0,1,9,16,100]"
   ]
  },
  {
   "cell_type": "code",
   "execution_count": 5,
   "id": "44e30650",
   "metadata": {},
   "outputs": [],
   "source": [
    "def solve(nums):\n",
    "    n = len(nums)\n",
    "    l = 0\n",
    "    r = n - 1\n",
    "    index = n - 1\n",
    "    res = [0 for i in range(len(nums))]\n",
    "    while index >= 0:\n",
    "        if abs(nums[l]) > abs(nums[r]):\n",
    "            res[index] = nums[l] * nums[l]\n",
    "            l += 1\n",
    "        else:\n",
    "            res[index] = nums[r] * nums[r]\n",
    "            r -= 1\n",
    "        index -= 1\n",
    "\n",
    "    return res"
   ]
  },
  {
   "cell_type": "code",
   "execution_count": 6,
   "id": "e0541cea",
   "metadata": {},
   "outputs": [
    {
     "data": {
      "text/plain": [
       "[0, 1, 9, 16, 100]"
      ]
     },
     "execution_count": 6,
     "metadata": {},
     "output_type": "execute_result"
    }
   ],
   "source": [
    "solve([-4,-1,0,3,10])"
   ]
  },
  {
   "cell_type": "markdown",
   "id": "9f2c5018",
   "metadata": {},
   "source": [
    "Q4.Given two **0-indexed** integer arrays nums1 and nums2, return *a list* answer *of size* 2 *where:*\n",
    "\n",
    "- answer[0] *is a list of all **distinct** integers in* nums1 *which are **not** present in* nums2*.*\n",
    "- answer[1] *is a list of all **distinct** integers in* nums2 *which are **not** present in* nums1.\n",
    "\n",
    "**Note** that the integers in the lists may be returned in **any** order.\n",
    "\n",
    "**Example 1:**\n",
    "\n",
    "**Input:** nums1 = [1,2,3], nums2 = [2,4,6]\n",
    "\n",
    "**Output:** [[1,3],[4,6]]"
   ]
  },
  {
   "cell_type": "code",
   "execution_count": 7,
   "id": "9414a53f",
   "metadata": {},
   "outputs": [],
   "source": [
    "def findDifference(nums1,nums2):\n",
    "    set1 = set(nums1)\n",
    "    set2 = set(nums2)\n",
    "    return [set1 - set2, set2 - set1]"
   ]
  },
  {
   "cell_type": "code",
   "execution_count": 8,
   "id": "413a9f49",
   "metadata": {},
   "outputs": [
    {
     "data": {
      "text/plain": [
       "[{1, 3}, {4, 6}]"
      ]
     },
     "execution_count": 8,
     "metadata": {},
     "output_type": "execute_result"
    }
   ],
   "source": [
    "findDifference([1,2,3],[2,4,6])"
   ]
  },
  {
   "cell_type": "markdown",
   "id": "96510e56",
   "metadata": {},
   "source": [
    "Q5.Given two integer arrays arr1 and arr2, and the integer d, *return the distance value between the two arrays*.\n",
    "\n",
    "The distance value is defined as the number of elements arr1[i] such that there is not any element arr2[j] where |arr1[i]-arr2[j]| <= d.\n",
    "\n",
    "**Example 1:**\n",
    "\n",
    "**Input:** arr1 = [4,5,8], arr2 = [10,9,1,8], d = 2\n",
    "\n",
    "**Output:** 2"
   ]
  },
  {
   "cell_type": "code",
   "execution_count": 9,
   "id": "f8b35ba9",
   "metadata": {},
   "outputs": [],
   "source": [
    " def findTheDistanceValue(arr1, arr2, d):\n",
    "        return sum(all(abs(a1 - a2) > d for a2 in arr2) for a1 in arr1)"
   ]
  },
  {
   "cell_type": "code",
   "execution_count": 10,
   "id": "9d146daf",
   "metadata": {},
   "outputs": [
    {
     "data": {
      "text/plain": [
       "2"
      ]
     },
     "execution_count": 10,
     "metadata": {},
     "output_type": "execute_result"
    }
   ],
   "source": [
    "findTheDistanceValue([4,5,8],[10,9,1,8],2)"
   ]
  },
  {
   "cell_type": "markdown",
   "id": "e264bb96",
   "metadata": {},
   "source": [
    "Q6.Given an integer array nums of length n where all the integers of nums are in the range [1, n] and each integer appears **once** or **twice**, return *an array of all the integers that appears **twice***.\n",
    "\n",
    "You must write an algorithm that runs in O(n) time and uses only constant extra space.\n",
    "\n",
    "**Example 1:**\n",
    "\n",
    "**Input:** nums = [4,3,2,7,8,2,3,1]\n",
    "\n",
    "**Output:**\n",
    "\n",
    "[2,3]"
   ]
  },
  {
   "cell_type": "code",
   "execution_count": 13,
   "id": "50264d64",
   "metadata": {},
   "outputs": [
    {
     "name": "stdout",
     "output_type": "stream",
     "text": [
      "[2, 3]\n"
     ]
    }
   ],
   "source": [
    "lis = [4,3,2,7,8,2,3,1]\n",
    " \n",
    "uniqueList = []\n",
    "duplicateList = []\n",
    " \n",
    "for i in lis:\n",
    "    if i not in uniqueList:\n",
    "        uniqueList.append(i)\n",
    "    elif i not in duplicateList:\n",
    "        duplicateList.append(i)\n",
    " \n",
    "print(duplicateList)"
   ]
  },
  {
   "cell_type": "markdown",
   "id": "e364ea92",
   "metadata": {},
   "source": [
    "Q7.Suppose an array of length n sorted in ascending order is **rotated** between 1 and n times. For example, the array nums = [0,1,2,4,5,6,7] might become:\n",
    "\n",
    "- [4,5,6,7,0,1,2] if it was rotated 4 times.\n",
    "- [0,1,2,4,5,6,7] if it was rotated 7 times.\n",
    "\n",
    "Notice that **rotating** an array [a[0], a[1], a[2], ..., a[n-1]] 1 time results in the array [a[n-1], a[0], a[1], a[2], ..., a[n-2]].\n",
    "\n",
    "Given the sorted rotated array nums of **unique** elements, return *the minimum element of this array*.\n",
    "\n",
    "You must write an algorithm that runs in O(log n) time.\n",
    "\n",
    "**Example 1:**\n",
    "\n",
    "**Input:** nums = [3,4,5,1,2]\n",
    "\n",
    "**Output:** 1"
   ]
  },
  {
   "cell_type": "code",
   "execution_count": 15,
   "id": "4b8fa2bb",
   "metadata": {},
   "outputs": [
    {
     "name": "stdout",
     "output_type": "stream",
     "text": [
      "1\n"
     ]
    }
   ],
   "source": [
    "def findMin(arr, N):\n",
    "     \n",
    "    min_ele = arr[0];\n",
    " \n",
    "    # Traversing over array to\n",
    "    # find minimum element\n",
    "    for i in range(N) :\n",
    "        if arr[i] < min_ele :\n",
    "            min_ele = arr[i]\n",
    " \n",
    "    return min_ele;\n",
    " \n",
    "# Driver program\n",
    "arr = [5, 6, 1, 2, 3, 4]\n",
    "N = len(arr)\n",
    " \n",
    "print(findMin(arr,N))\n",
    " "
   ]
  },
  {
   "cell_type": "markdown",
   "id": "040162be",
   "metadata": {},
   "source": [
    "Q8.An integer array original is transformed into a **doubled** array changed by appending **twice the value** of every element in original, and then randomly **shuffling** the resulting array.\n",
    "\n",
    "Given an array changed, return original *if* changed *is a **doubled** array. If* changed *is not a **doubled** array, return an empty array. The elements in* original *may be returned in **any** order*.\n",
    "\n",
    "**Example 1:**\n",
    "\n",
    "**Input:** changed = [1,3,4,2,6,8]\n",
    "\n",
    "**Output:** [1,3,4]"
   ]
  },
  {
   "cell_type": "code",
   "execution_count": null,
   "id": "74432251",
   "metadata": {},
   "outputs": [],
   "source": []
  }
 ],
 "metadata": {
  "kernelspec": {
   "display_name": "Python 3 (ipykernel)",
   "language": "python",
   "name": "python3"
  },
  "language_info": {
   "codemirror_mode": {
    "name": "ipython",
    "version": 3
   },
   "file_extension": ".py",
   "mimetype": "text/x-python",
   "name": "python",
   "nbconvert_exporter": "python",
   "pygments_lexer": "ipython3",
   "version": "3.9.12"
  }
 },
 "nbformat": 4,
 "nbformat_minor": 5
}
