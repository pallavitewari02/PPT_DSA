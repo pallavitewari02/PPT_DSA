{
 "cells": [
  {
   "cell_type": "markdown",
   "id": "84c2b878",
   "metadata": {},
   "source": [
    "Q1.Given two strings s1 and s2, return the lowest ASCII sum of deleted characters to make two strings equal."
   ]
  },
  {
   "cell_type": "code",
   "execution_count": 1,
   "id": "a520ecd5",
   "metadata": {},
   "outputs": [],
   "source": [
    "def minimumDeleteSum(s1, s2):\n",
    "    m, n = len(s1), len(s2)\n",
    "    dp = [[0] * (n + 1) for _ in range(m + 1)]\n",
    "    # base case\n",
    "    for i in range(1, m + 1):\n",
    "        dp[i][0] = dp[i - 1][0] + ord(s1[i - 1])\n",
    "    for j in range(1, n + 1):\n",
    "        dp[0][j] = dp[0][j - 1] + ord(s2[j - 1])\n",
    "    # iterative dp table\n",
    "    for i in range(1, m + 1):\n",
    "        for j in range(1, n + 1):\n",
    "            if s1[i-1] == s2[j-1]:\n",
    "                dp[i][j] = dp[i-1][j-1]\n",
    "            else:\n",
    "                dp[i][j] = min(dp[i-1][j] + ord(s1[i-1]), dp[i][j-1] + ord(s2[j-1]))\n",
    "    return dp[m][n]"
   ]
  },
  {
   "cell_type": "code",
   "execution_count": 2,
   "id": "676001cb",
   "metadata": {},
   "outputs": [
    {
     "data": {
      "text/plain": [
       "231"
      ]
     },
     "execution_count": 2,
     "metadata": {},
     "output_type": "execute_result"
    }
   ],
   "source": [
    "minimumDeleteSum(\"sea\",\"eat\")"
   ]
  },
  {
   "cell_type": "markdown",
   "id": "b3bd17e5",
   "metadata": {},
   "source": [
    "Q2.Given a string s containing only three types of characters: '(', ')' and '*', return true *if* s *is **valid***.\n",
    "\n",
    "The following rules define a **valid** string:\n",
    "\n",
    "- Any left parenthesis '(' must have a corresponding right parenthesis ')'.\n",
    "- Any right parenthesis ')' must have a corresponding left parenthesis '('.\n",
    "- Left parenthesis '(' must go before the corresponding right parenthesis ')'.\n",
    "- '*' could be treated as a single right parenthesis ')' or a single left parenthesis '(' or an empty string \"\"."
   ]
  },
  {
   "cell_type": "code",
   "execution_count": 3,
   "id": "8492653e",
   "metadata": {},
   "outputs": [],
   "source": [
    "def is_valid_parentheses(s):\n",
    "    stack = []\n",
    "    mapping = {\")\": \"(\", \"}\": \"{\", \"]\": \"[\"}\n",
    "    for char in s:\n",
    "        if char in mapping:\n",
    "            top_element = stack.pop() if stack else '#'\n",
    "            if mapping[char] != top_element:\n",
    "                return False\n",
    "        else:\n",
    "            stack.append(char)\n",
    "    return not stack"
   ]
  },
  {
   "cell_type": "code",
   "execution_count": 4,
   "id": "beb7e2c7",
   "metadata": {},
   "outputs": [
    {
     "data": {
      "text/plain": [
       "True"
      ]
     },
     "execution_count": 4,
     "metadata": {},
     "output_type": "execute_result"
    }
   ],
   "source": [
    "is_valid_parentheses(\"()\")"
   ]
  },
  {
   "cell_type": "markdown",
   "id": "67db2b36",
   "metadata": {},
   "source": [
    "Q3.Given two strings word1 and word2, return *the minimum number of **steps** required to make* word1 *and* word2 *the same*.\n",
    "\n",
    "In one **step**, you can delete exactly one character in either string."
   ]
  },
  {
   "cell_type": "code",
   "execution_count": 5,
   "id": "4e9590a6",
   "metadata": {},
   "outputs": [],
   "source": [
    "def minDistance(W1, W2):\n",
    "        m, n = len(W1), len(W2)\n",
    "        if m < n: W1, W2, m, n = W2, W1, n, m\n",
    "        dpLast, dpCurr = [0] * (n + 1), [0] * (n + 1)\n",
    "        for c1 in W1:\n",
    "            for j in range(n):\n",
    "                dpCurr[j+1] = dpLast[j] + 1 if c1 == W2[j] else max(dpCurr[j], dpLast[j+1])\n",
    "            dpLast, dpCurr = dpCurr, dpLast\n",
    "        return m + n - 2 * dpLast[n]"
   ]
  },
  {
   "cell_type": "code",
   "execution_count": 6,
   "id": "5d2d3acc",
   "metadata": {},
   "outputs": [
    {
     "data": {
      "text/plain": [
       "2"
      ]
     },
     "execution_count": 6,
     "metadata": {},
     "output_type": "execute_result"
    }
   ],
   "source": [
    "minDistance(\"sea\",\"eat\")"
   ]
  },
  {
   "cell_type": "markdown",
   "id": "7d1e84cc",
   "metadata": {},
   "source": [
    "Q4.You need to construct a binary tree from a string consisting of parenthesis and integers.\n",
    "\n",
    "The whole input represents a binary tree. It contains an integer followed by zero, one or two pairs of parenthesis. The integer represents the root's value and a pair of parenthesis contains a child binary tree with the same structure.\n",
    "You always start to construct the **left** child node of the parent first if it exists."
   ]
  },
  {
   "cell_type": "code",
   "execution_count": 11,
   "id": "e650844f",
   "metadata": {},
   "outputs": [],
   "source": [
    " def tree2str(t):\n",
    "    def dfs(root):\n",
    "        if not root:\n",
    "            return ''\n",
    "        if root.right:\n",
    "            return str(root.val) + '(' + dfs(root.left) + ')(' + dfs(root.right) + ')'\n",
    "        if root.left:\n",
    "            return str(root.val) + '(' + dfs(root.left) + ')'\n",
    "        return str(root.val)\n",
    "    return dfs(t)"
   ]
  },
  {
   "cell_type": "markdown",
   "id": "59f3c360",
   "metadata": {},
   "source": [
    "Q5.Given an array of characters chars, compress it using the following algorithm:\n",
    "\n",
    "Begin with an empty string s. For each group of **consecutive repeating characters** in chars:\n",
    "\n",
    "- If the group's length is 1, append the character to s.\n",
    "- Otherwise, append the character followed by the group's length.\n",
    "\n",
    "The compressed string s **should not be returned separately**, but instead, be stored **in the input character array chars**. Note that group lengths that are 10 or longer will be split into multiple characters in chars.\n",
    "\n",
    "After you are done **modifying the input array,** return *the new length of the array*.\n",
    "\n",
    "You must write an algorithm that uses only constant extra space."
   ]
  },
  {
   "cell_type": "code",
   "execution_count": null,
   "id": "deeb5ad9",
   "metadata": {},
   "outputs": [],
   "source": [
    "new_string = \"\"\n",
    "string = \"pythooonnnpool\"\n",
    "count = 1\n",
    "for i in range(len(string)-1):\n",
    "    if string[i] == string[i+1]:\n",
    "        count = count + 1\n",
    "    else:         \n",
    "        new_string =  new_string + string[i] + str(count)\n",
    "        count = 1\n",
    "new_string = new_string + string[i+1] + str(count)\n",
    "print(new_string)"
   ]
  },
  {
   "cell_type": "markdown",
   "id": "24693d2a",
   "metadata": {},
   "source": [
    "Q6.Given two strings s and p, return *an array of all the start indices of* p*'s anagrams in* s. You may return the answer in **any order**.\n",
    "\n",
    "An **Anagram** is a word or phrase formed by rearranging the letters of a different word or phrase, typically using all the original letters exactly once."
   ]
  },
  {
   "cell_type": "code",
   "execution_count": 17,
   "id": "63a37855",
   "metadata": {},
   "outputs": [
    {
     "ename": "ModuleNotFoundError",
     "evalue": "No module named 'Collections'",
     "output_type": "error",
     "traceback": [
      "\u001b[1;31m---------------------------------------------------------------------------\u001b[0m",
      "\u001b[1;31mModuleNotFoundError\u001b[0m                       Traceback (most recent call last)",
      "Input \u001b[1;32mIn [17]\u001b[0m, in \u001b[0;36m<cell line: 1>\u001b[1;34m()\u001b[0m\n\u001b[1;32m----> 1\u001b[0m \u001b[38;5;28;01mfrom\u001b[39;00m \u001b[38;5;21;01mCollections\u001b[39;00m \u001b[38;5;28;01mimport\u001b[39;00m collections \n\u001b[0;32m      2\u001b[0m \u001b[38;5;28;01mdef\u001b[39;00m \u001b[38;5;21mfindAnagrams\u001b[39m(s, p):\n\u001b[0;32m      3\u001b[0m     res \u001b[38;5;241m=\u001b[39m []\n",
      "\u001b[1;31mModuleNotFoundError\u001b[0m: No module named 'Collections'"
     ]
    }
   ],
   "source": [
    "from collections import collections \n",
    "def findAnagrams(s, p):\n",
    "    res = []\n",
    "    c = collections.Counter(p)\n",
    "    cur = collections.Counter(s[:len(p)])\n",
    "    for i in range(len(s)-len(p)+1):\n",
    "        if cur==c:\n",
    "            res.append(i)\n",
    "        if i == len(s)-len(p):\n",
    "            break\n",
    "        cur[s[i]]-=1\n",
    "        if cur[s[i]]==0:\n",
    "            del cur[s[i]]\n",
    "        cur[s[i+len(p)]]+=1\n",
    "    return res"
   ]
  },
  {
   "cell_type": "code",
   "execution_count": 15,
   "id": "5768aa5c",
   "metadata": {},
   "outputs": [
    {
     "ename": "NameError",
     "evalue": "name 'collections' is not defined",
     "output_type": "error",
     "traceback": [
      "\u001b[1;31m---------------------------------------------------------------------------\u001b[0m",
      "\u001b[1;31mNameError\u001b[0m                                 Traceback (most recent call last)",
      "Input \u001b[1;32mIn [15]\u001b[0m, in \u001b[0;36m<cell line: 1>\u001b[1;34m()\u001b[0m\n\u001b[1;32m----> 1\u001b[0m \u001b[43mfindAnagrams\u001b[49m\u001b[43m(\u001b[49m\u001b[38;5;124;43m\"\u001b[39;49m\u001b[38;5;124;43mcbaebabacd\u001b[39;49m\u001b[38;5;124;43m\"\u001b[39;49m\u001b[43m,\u001b[49m\u001b[38;5;124;43m\"\u001b[39;49m\u001b[38;5;124;43mabc\u001b[39;49m\u001b[38;5;124;43m\"\u001b[39;49m\u001b[43m)\u001b[49m\n",
      "Input \u001b[1;32mIn [14]\u001b[0m, in \u001b[0;36mfindAnagrams\u001b[1;34m(s, p)\u001b[0m\n\u001b[0;32m      2\u001b[0m \u001b[38;5;28;01mdef\u001b[39;00m \u001b[38;5;21mfindAnagrams\u001b[39m(s, p):\n\u001b[0;32m      3\u001b[0m     res \u001b[38;5;241m=\u001b[39m []\n\u001b[1;32m----> 4\u001b[0m     c \u001b[38;5;241m=\u001b[39m \u001b[43mcollections\u001b[49m\u001b[38;5;241m.\u001b[39mCounter(p)\n\u001b[0;32m      5\u001b[0m     cur \u001b[38;5;241m=\u001b[39m collections\u001b[38;5;241m.\u001b[39mCounter(s[:\u001b[38;5;28mlen\u001b[39m(p)])\n\u001b[0;32m      6\u001b[0m     \u001b[38;5;28;01mfor\u001b[39;00m i \u001b[38;5;129;01min\u001b[39;00m \u001b[38;5;28mrange\u001b[39m(\u001b[38;5;28mlen\u001b[39m(s)\u001b[38;5;241m-\u001b[39m\u001b[38;5;28mlen\u001b[39m(p)\u001b[38;5;241m+\u001b[39m\u001b[38;5;241m1\u001b[39m):\n",
      "\u001b[1;31mNameError\u001b[0m: name 'collections' is not defined"
     ]
    }
   ],
   "source": [
    "findAnagrams(\"cbaebabacd\",\"abc\")"
   ]
  },
  {
   "cell_type": "markdown",
   "id": "28931075",
   "metadata": {},
   "source": [
    "Q7.Given an encoded string, return its decoded string.\n",
    "\n",
    "The encoding rule is: k[encoded_string], where the encoded_string inside the square brackets is being repeated exactly k times. Note that k is guaranteed to be a positive integer.\n",
    "\n",
    "You may assume that the input string is always valid; there are no extra white spaces, square brackets are well-formed, etc. Furthermore, you may assume that the original data does not contain any digits and that digits are only for those repeat numbers, k. For example, there will not be input like 3a or 2[4].\n",
    "\n",
    "The test cases are generated so that the length of the output will never exceed 105."
   ]
  },
  {
   "cell_type": "code",
   "execution_count": 18,
   "id": "29a94efb",
   "metadata": {},
   "outputs": [],
   "source": [
    "def decodeString(s):\n",
    "    stack = []  # (prevStr, repeatCount)\n",
    "    currStr = ''\n",
    "    currNum = 0\n",
    "\n",
    "    for c in s:\n",
    "        if c.isdigit():\n",
    "            currNum = currNum * 10 + int(c)\n",
    "        else:\n",
    "            if c == '[':\n",
    "                stack.append((currStr, currNum))\n",
    "                currStr = ''\n",
    "                currNum = 0\n",
    "            elif c == ']':\n",
    "                prevStr, num = stack.pop()\n",
    "                currStr = prevStr + num * currStr\n",
    "            else:\n",
    "                currStr += c\n",
    "\n",
    "        return currStr"
   ]
  },
  {
   "cell_type": "code",
   "execution_count": 20,
   "id": "e5220e57",
   "metadata": {},
   "outputs": [
    {
     "data": {
      "text/plain": [
       "''"
      ]
     },
     "execution_count": 20,
     "metadata": {},
     "output_type": "execute_result"
    }
   ],
   "source": [
    "decodeString(\"3[a]2[bc]\")"
   ]
  },
  {
   "cell_type": "markdown",
   "id": "5d39a562",
   "metadata": {},
   "source": [
    "Q8.Given two strings s and goal, return true *if you can swap two letters in* s *so the result is equal to* goal*, otherwise, return* false*.*\n",
    "\n",
    "Swapping letters is defined as taking two indices i and j (0-indexed) such that i != j and swapping the characters at s[i] and s[j].\n",
    "\n",
    "- For example, swapping at indices 0 and 2 in \"abcd\" results in \"cbad\"."
   ]
  },
  {
   "cell_type": "code",
   "execution_count": 21,
   "id": "1c5068ca",
   "metadata": {},
   "outputs": [
    {
     "name": "stdout",
     "output_type": "stream",
     "text": [
      "True\n"
     ]
    }
   ],
   "source": [
    "def buddyStrings(s, goal):\n",
    "    if len(s) != len(goal):\n",
    "        return False\n",
    "    if s == goal:\n",
    "        return len(set(s)) < len(s)\n",
    "    diffs = [(a, b)for a, b in zip(s, goal) if a != b]\n",
    "    return len(diffs) == 2 and diffs[0] == diffs[1][::-1]\n",
    "\n",
    "s = \"ab\"\n",
    "goal = \"ba\"\n",
    "\n",
    "print(buddyStrings(s, goal))"
   ]
  },
  {
   "cell_type": "code",
   "execution_count": null,
   "id": "a4c5f195",
   "metadata": {},
   "outputs": [],
   "source": []
  }
 ],
 "metadata": {
  "kernelspec": {
   "display_name": "Python 3 (ipykernel)",
   "language": "python",
   "name": "python3"
  },
  "language_info": {
   "codemirror_mode": {
    "name": "ipython",
    "version": 3
   },
   "file_extension": ".py",
   "mimetype": "text/x-python",
   "name": "python",
   "nbconvert_exporter": "python",
   "pygments_lexer": "ipython3",
   "version": "3.9.12"
  }
 },
 "nbformat": 4,
 "nbformat_minor": 5
}
