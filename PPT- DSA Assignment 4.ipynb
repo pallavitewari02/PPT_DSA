{
 "cells": [
  {
   "cell_type": "markdown",
   "id": "bcab5530",
   "metadata": {},
   "source": [
    "Q1.Given three integer arrays arr1, arr2 and arr3 **sorted** in **strictly increasing** order, return a sorted array of **only** the integers that appeared in **all** three arrays.\n",
    "\n",
    "**Example 1:**\n",
    "\n",
    "Input: arr1 = [1,2,3,4,5], arr2 = [1,2,5,7,9], arr3 = [1,3,4,5,8]\n",
    "\n",
    "Output: [1,5]\n",
    "\n",
    "**Explanation:** Only 1 and 5 appeared in the three arrays.\n",
    "\n"
   ]
  },
  {
   "cell_type": "code",
   "execution_count": 5,
   "id": "1bdc7913",
   "metadata": {},
   "outputs": [],
   "source": [
    "def arraysIntersection(arr1, arr2, arr3):\n",
    "    def find(arr, val):\n",
    "        left, right = 0, len(arr) - 1\n",
    "        while left < right:\n",
    "            mid = (left + right) >> 1\n",
    "            if arr[mid] >= val:\n",
    "                right = mid\n",
    "            else:\n",
    "                left = mid + 1\n",
    "        return arr[left] == val\n",
    "\n",
    "    res = []\n",
    "    for num in arr1:\n",
    "        if find(arr2, num) and find(arr3, num):\n",
    "            res.append(num)\n",
    "    return res"
   ]
  },
  {
   "cell_type": "code",
   "execution_count": 6,
   "id": "6dab5cfc",
   "metadata": {},
   "outputs": [
    {
     "data": {
      "text/plain": [
       "[1, 5]"
      ]
     },
     "execution_count": 6,
     "metadata": {},
     "output_type": "execute_result"
    }
   ],
   "source": [
    "arraysIntersection( [1,2,3,4,5],[1,2,5,7,9],[1,3,4,5,8])"
   ]
  },
  {
   "cell_type": "markdown",
   "id": "84ed5be7",
   "metadata": {},
   "source": [
    "Q2.Given two **0-indexed** integer arrays nums1 and nums2, return *a list* answer *of size* 2 *where:*\n",
    "\n",
    "- answer[0] *is a list of all **distinct** integers in* nums1 *which are **not** present in* nums2*.*\n",
    "- answer[1] *is a list of all **distinct** integers in* nums2 *which are **not** present in* nums1.\n",
    "\n",
    "**Note** that the integers in the lists may be returned in **any** order.\n",
    "\n",
    "**Example 1:**\n",
    "\n",
    "**Input:** nums1 = [1,2,3], nums2 = [2,4,6]\n",
    "\n",
    "**Output:** [[1,3],[4,6]]"
   ]
  },
  {
   "cell_type": "code",
   "execution_count": 8,
   "id": "662c6eda",
   "metadata": {},
   "outputs": [],
   "source": [
    "def findDifference(nums1,nums2):\n",
    "    set1 = set(nums1)\n",
    "    set2 = set(nums2)\n",
    "    return [set1 - set2, set2 - set1]"
   ]
  },
  {
   "cell_type": "code",
   "execution_count": 9,
   "id": "7eeffd4a",
   "metadata": {},
   "outputs": [
    {
     "data": {
      "text/plain": [
       "[{1, 3}, {4, 6}]"
      ]
     },
     "execution_count": 9,
     "metadata": {},
     "output_type": "execute_result"
    }
   ],
   "source": [
    "findDifference([1,2,3],[2,4,6])"
   ]
  },
  {
   "cell_type": "markdown",
   "id": "e0832305",
   "metadata": {},
   "source": [
    "Q3. Given a 2D integer array matrix, return *the **transpose** of* matrix.\n",
    "\n",
    "The **transpose** of a matrix is the matrix flipped over its main diagonal, switching the matrix's row and column indices.\n",
    "\n",
    "**Example 1:**\n",
    "\n",
    "Input: matrix = [[1,2,3],[4,5,6],[7,8,9]]\n",
    "\n",
    "Output: [[1,4,7],[2,5,8],[3,6,9]]\n"
   ]
  },
  {
   "cell_type": "code",
   "execution_count": 10,
   "id": "1d044c2f",
   "metadata": {},
   "outputs": [
    {
     "name": "stdout",
     "output_type": "stream",
     "text": [
      "(1, 2, 3)\n",
      "(4, 5, 6)\n",
      "(7, 8, 9)\n",
      "\n",
      "\n",
      "(1, 4, 7)\n",
      "(2, 5, 8)\n",
      "(3, 6, 9)\n"
     ]
    }
   ],
   "source": [
    "matrix=[(1,2,3),(4,5,6),(7,8,9)]\n",
    "for row in matrix:\n",
    "    print(row)\n",
    "print(\"\\n\")\n",
    "t_matrix = zip(*matrix)\n",
    "for row in t_matrix:\n",
    "    print(row)"
   ]
  },
  {
   "cell_type": "markdown",
   "id": "9ce9053b",
   "metadata": {},
   "source": [
    "Q4.Given an integer array nums of 2n integers, group these integers into n pairs (a1, b1), (a2, b2), ..., (an, bn) such that the sum of min(ai, bi) for all i is **maximized**. Return *the maximized sum*.\n",
    "\n",
    "**Example 1:**\n",
    "\n",
    "Input: nums = [1,4,3,2]\n",
    "\n",
    "Output: 4\n"
   ]
  },
  {
   "cell_type": "code",
   "execution_count": 11,
   "id": "ff33e382",
   "metadata": {},
   "outputs": [],
   "source": [
    "def arrayPairSum(a):\n",
    "    res = 0\n",
    "    a = sorted(a)\n",
    "    for i in range(0,len(a)-1,2):\n",
    "        res += a[i]\n",
    "    return res"
   ]
  },
  {
   "cell_type": "code",
   "execution_count": 12,
   "id": "3f3ad78e",
   "metadata": {},
   "outputs": [
    {
     "data": {
      "text/plain": [
       "4"
      ]
     },
     "execution_count": 12,
     "metadata": {},
     "output_type": "execute_result"
    }
   ],
   "source": [
    "arrayPairSum([1,4,3,2])"
   ]
  },
  {
   "cell_type": "markdown",
   "id": "aa31f949",
   "metadata": {},
   "source": [
    "Q5.You have n coins and you want to build a staircase with these coins. The staircase consists of k rows where the ith row has exactly i coins. The last row of the staircase **may be** incomplete.\n",
    "\n",
    "Given the integer n, return *the number of **complete rows** of the staircase you will build*.\n"
   ]
  },
  {
   "cell_type": "code",
   "execution_count": 13,
   "id": "542854e1",
   "metadata": {},
   "outputs": [],
   "source": [
    "def arrangeCoins(n):\n",
    "    rows = 0\n",
    "    i = 1\n",
    "        \n",
    "    while n >= i:\n",
    "        n-=i\n",
    "        rows+=1\n",
    "        i+=1\n",
    "               \n",
    "    return rows"
   ]
  },
  {
   "cell_type": "code",
   "execution_count": 14,
   "id": "092a68ad",
   "metadata": {},
   "outputs": [
    {
     "data": {
      "text/plain": [
       "2"
      ]
     },
     "execution_count": 14,
     "metadata": {},
     "output_type": "execute_result"
    }
   ],
   "source": [
    "arrangeCoins(5)"
   ]
  },
  {
   "cell_type": "markdown",
   "id": "5a151f05",
   "metadata": {},
   "source": [
    "Q6.Given an integer array nums sorted in **non-decreasing** order, return *an array of **the squares of each number** sorted in non-decreasing order*.\n",
    "\n",
    "**Example 1:**\n",
    "\n",
    "Input: nums = [-4,-1,0,3,10]\n",
    "\n",
    "Output: [0,1,9,16,100]\n",
    "\n"
   ]
  },
  {
   "cell_type": "code",
   "execution_count": 15,
   "id": "042690b0",
   "metadata": {},
   "outputs": [],
   "source": [
    "def solve(nums):\n",
    "    n = len(nums)\n",
    "    l = 0\n",
    "    r = n - 1\n",
    "    index = n - 1\n",
    "    res = [0 for i in range(len(nums))]\n",
    "    while index >= 0:\n",
    "        if abs(nums[l]) > abs(nums[r]):\n",
    "            res[index] = nums[l] * nums[l]\n",
    "            l += 1\n",
    "        else:\n",
    "            res[index] = nums[r] * nums[r]\n",
    "            r -= 1\n",
    "        index -= 1\n",
    "\n",
    "    return res"
   ]
  },
  {
   "cell_type": "code",
   "execution_count": 16,
   "id": "3f18a57f",
   "metadata": {},
   "outputs": [
    {
     "data": {
      "text/plain": [
       "[0, 1, 9, 16, 100]"
      ]
     },
     "execution_count": 16,
     "metadata": {},
     "output_type": "execute_result"
    }
   ],
   "source": [
    "solve([-4,-1,0,3,10])"
   ]
  },
  {
   "cell_type": "markdown",
   "id": "f1350572",
   "metadata": {},
   "source": [
    "Q7.You are given an m x n matrix M initialized with all 0's and an array of operations ops, where ops[i] = [ai, bi] means M[x][y] should be incremented by one for all 0 <= x < ai and 0 <= y < bi.\n",
    "\n",
    "Count and return *the number of maximum integers in the matrix after performing all the operations*\n"
   ]
  },
  {
   "cell_type": "code",
   "execution_count": 17,
   "id": "b60e689b",
   "metadata": {},
   "outputs": [],
   "source": [
    "def maxCount(m,n,ops):\n",
    "    minY = m\n",
    "    minX = n\n",
    "\n",
    "    for y, x in ops:\n",
    "        minY = min(minY, y)\n",
    "        minX = min(minX, x)\n",
    "\n",
    "    return minX * minY"
   ]
  },
  {
   "cell_type": "code",
   "execution_count": 18,
   "id": "1b38c51a",
   "metadata": {},
   "outputs": [
    {
     "data": {
      "text/plain": [
       "4"
      ]
     },
     "execution_count": 18,
     "metadata": {},
     "output_type": "execute_result"
    }
   ],
   "source": [
    "maxCount(3,3,[[2,2],[3,3]])"
   ]
  },
  {
   "cell_type": "markdown",
   "id": "d166310e",
   "metadata": {},
   "source": [
    "Q8.Given the array nums consisting of 2n elements in the form [x1,x2,...,xn,y1,y2,...,yn].\n",
    "\n",
    "*Return the array in the form* [x1,y1,x2,y2,...,xn,yn].\n",
    "\n",
    "**Example 1:**\n",
    "\n",
    "**Input:** nums = [2,5,1,3,4,7], n = 3\n",
    "\n",
    "**Output:** [2,3,5,4,1,7]"
   ]
  },
  {
   "cell_type": "code",
   "execution_count": 19,
   "id": "2fc8e454",
   "metadata": {},
   "outputs": [
    {
     "name": "stdout",
     "output_type": "stream",
     "text": [
      "Original array:  [2 5 1 3 4 7]\n",
      "Shuffled array:  [4 5 1 3 7 2]\n"
     ]
    }
   ],
   "source": [
    "import numpy as np\n",
    " \n",
    "# Assign array\n",
    "arr = np.array([2,5,1,3,4,7])\n",
    " \n",
    "# Display original array\n",
    "print(\"Original array: \", arr)\n",
    " \n",
    "# Shuffle array\n",
    "np.random.shuffle(arr)\n",
    " \n",
    "# Display shuffled array\n",
    "print(\"Shuffled array: \", arr)"
   ]
  },
  {
   "cell_type": "code",
   "execution_count": null,
   "id": "8d9f0cf5",
   "metadata": {},
   "outputs": [],
   "source": []
  }
 ],
 "metadata": {
  "kernelspec": {
   "display_name": "Python 3 (ipykernel)",
   "language": "python",
   "name": "python3"
  },
  "language_info": {
   "codemirror_mode": {
    "name": "ipython",
    "version": 3
   },
   "file_extension": ".py",
   "mimetype": "text/x-python",
   "name": "python",
   "nbconvert_exporter": "python",
   "pygments_lexer": "ipython3",
   "version": "3.9.12"
  }
 },
 "nbformat": 4,
 "nbformat_minor": 5
}
