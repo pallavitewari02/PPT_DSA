{
 "cells": [
  {
   "cell_type": "markdown",
   "id": "d84933ee",
   "metadata": {},
   "source": [
    "Q1.Given an integer `n`, return *`true` if it is a power of two. Otherwise, return `false`*.\n",
    "\n",
    "An integer `n` is a power of two, if there exists an integer `x` such that `n == 2x`."
   ]
  },
  {
   "cell_type": "code",
   "execution_count": 1,
   "id": "b9763716",
   "metadata": {},
   "outputs": [],
   "source": [
    "def isPowerOfTwo(n):\n",
    "    if (n == 0):\n",
    "        return False\n",
    "    while (n != 1):\n",
    "            if (n % 2 != 0):\n",
    "                return False\n",
    "            n = n // 2\n",
    "             \n",
    "    return True"
   ]
  },
  {
   "cell_type": "code",
   "execution_count": 2,
   "id": "ec008016",
   "metadata": {},
   "outputs": [
    {
     "data": {
      "text/plain": [
       "False"
      ]
     },
     "execution_count": 2,
     "metadata": {},
     "output_type": "execute_result"
    }
   ],
   "source": [
    "isPowerOfTwo(3)"
   ]
  },
  {
   "cell_type": "markdown",
   "id": "41bce417",
   "metadata": {},
   "source": [
    "Q2.Given a number n, find the sum of the first natural numbers."
   ]
  },
  {
   "cell_type": "code",
   "execution_count": 5,
   "id": "451b7b78",
   "metadata": {},
   "outputs": [],
   "source": [
    "def findSum(n):\n",
    "    sum = 0\n",
    "    x = 1\n",
    "    while x <= n:\n",
    "        sum = sum + x\n",
    "        x = x + 1\n",
    "    return sum"
   ]
  },
  {
   "cell_type": "code",
   "execution_count": 7,
   "id": "57546aa2",
   "metadata": {},
   "outputs": [
    {
     "data": {
      "text/plain": [
       "6"
      ]
     },
     "execution_count": 7,
     "metadata": {},
     "output_type": "execute_result"
    }
   ],
   "source": [
    "findSum(3)"
   ]
  },
  {
   "cell_type": "markdown",
   "id": "3b243fc7",
   "metadata": {},
   "source": [
    "Q3.Given a positive integer, N. Find the factorial of N. "
   ]
  },
  {
   "cell_type": "code",
   "execution_count": 8,
   "id": "a10d23b9",
   "metadata": {},
   "outputs": [],
   "source": [
    "def factorial(n):\n",
    "       \n",
    "    if n == 0:\n",
    "        return 1\n",
    "      \n",
    "    return n * factorial(n-1)"
   ]
  },
  {
   "cell_type": "code",
   "execution_count": 9,
   "id": "4a16e6d7",
   "metadata": {},
   "outputs": [
    {
     "data": {
      "text/plain": [
       "120"
      ]
     },
     "execution_count": 9,
     "metadata": {},
     "output_type": "execute_result"
    }
   ],
   "source": [
    "factorial(5)"
   ]
  },
  {
   "cell_type": "markdown",
   "id": "7df1af29",
   "metadata": {},
   "source": [
    "Q4.Given a number N and a power P, the task is to find the exponent of this number raised to the given power, i.e. N^P."
   ]
  },
  {
   "cell_type": "code",
   "execution_count": 10,
   "id": "a76691fc",
   "metadata": {},
   "outputs": [],
   "source": [
    "def power(N, P):\n",
    " \n",
    "    # If power is 0 then return 1\n",
    "    # if condition is true\n",
    "    # only then it will enter it,\n",
    "    # otherwise not\n",
    "    if P == 0:\n",
    "        return 1\n",
    " \n",
    "    # Recurrence relation\n",
    "    return (N*power(N, P-1))\n",
    " "
   ]
  },
  {
   "cell_type": "code",
   "execution_count": 11,
   "id": "11e51e7a",
   "metadata": {},
   "outputs": [
    {
     "data": {
      "text/plain": [
       "16"
      ]
     },
     "execution_count": 11,
     "metadata": {},
     "output_type": "execute_result"
    }
   ],
   "source": [
    "power(2,4)"
   ]
  },
  {
   "cell_type": "markdown",
   "id": "a7d67834",
   "metadata": {},
   "source": [
    "Q5.Given an array of integers arr, the task is to find maximum element of that array using recursion."
   ]
  },
  {
   "cell_type": "code",
   "execution_count": 15,
   "id": "eb312da3",
   "metadata": {},
   "outputs": [],
   "source": [
    "def findMinRec(A, n):\n",
    "     \n",
    "    # if size = 0 means whole array\n",
    "    # has been traversed\n",
    "    if (n == 1):\n",
    "        return A[0]\n",
    "    return max(A[n - 1], findMinRec(A, n - 1))"
   ]
  },
  {
   "cell_type": "code",
   "execution_count": 16,
   "id": "b1cda52b",
   "metadata": {},
   "outputs": [
    {
     "data": {
      "text/plain": [
       "8"
      ]
     },
     "execution_count": 16,
     "metadata": {},
     "output_type": "execute_result"
    }
   ],
   "source": [
    "findMinRec([1, 4, 3, -5, -4, 8, 6],7)"
   ]
  },
  {
   "cell_type": "markdown",
   "id": "59e85260",
   "metadata": {},
   "source": [
    "Q6.Given first term (a), common difference (d) and a integer N of the Arithmetic Progression series, the task is to find Nth term of the series."
   ]
  },
  {
   "cell_type": "code",
   "execution_count": 18,
   "id": "c26acde8",
   "metadata": {},
   "outputs": [
    {
     "ename": "SyntaxError",
     "evalue": "invalid syntax (3398555828.py, line 1)",
     "output_type": "error",
     "traceback": [
      "\u001b[1;36m  Input \u001b[1;32mIn [18]\u001b[1;36m\u001b[0m\n\u001b[1;33m    def Nth_of_AP(2,1,5) :\u001b[0m\n\u001b[1;37m                  ^\u001b[0m\n\u001b[1;31mSyntaxError\u001b[0m\u001b[1;31m:\u001b[0m invalid syntax\n"
     ]
    }
   ],
   "source": [
    "def Nth_of_AP(a,d,n) :\n",
    " \n",
    "    # using formula to find the\n",
    "    # Nth term t(n) = a(1) + (n-1)*d\n",
    "    return (a + (N - 1) * d)\n",
    "      \n",
    "  \n"
   ]
  },
  {
   "cell_type": "code",
   "execution_count": 19,
   "id": "27fb6adc",
   "metadata": {},
   "outputs": [
    {
     "data": {
      "text/plain": [
       "6"
      ]
     },
     "execution_count": 19,
     "metadata": {},
     "output_type": "execute_result"
    }
   ],
   "source": [
    "Nth_of_AP(2,1,5)"
   ]
  },
  {
   "cell_type": "markdown",
   "id": "219cdd57",
   "metadata": {},
   "source": [
    "Q7.Given a string S, the task is to write a program to print all permutations of a given string"
   ]
  },
  {
   "cell_type": "code",
   "execution_count": null,
   "id": "ed7fb3bd",
   "metadata": {},
   "outputs": [],
   "source": [
    "def permute(a, l, r):\n",
    "    if l == r:\n",
    "        print(toString(a))\n",
    "    else:\n",
    "        for i in range(l, r):\n",
    "            a[l], a[i] = a[i], a[l]\n",
    "            permute(a, l+1, r)\n",
    "            a[l], a[i] = a[i], a[l]"
   ]
  },
  {
   "cell_type": "markdown",
   "id": "1c727591",
   "metadata": {},
   "source": [
    "Q8.Given an array, find a product of all array elements."
   ]
  },
  {
   "cell_type": "code",
   "execution_count": 20,
   "id": "005dd5c3",
   "metadata": {},
   "outputs": [
    {
     "name": "stdout",
     "output_type": "stream",
     "text": [
      "120\n"
     ]
    }
   ],
   "source": [
    "arr=[1, 2, 3, 4, 5]\n",
    "product=1\n",
    "  \n",
    "#initialize start and last pointers\n",
    "i=0\n",
    "j=len(arr)-1\n",
    "  \n",
    "#add first and last simultaneously \n",
    "while(i<j):\n",
    "    product*=arr[i]*arr[j]\n",
    "    i+=1\n",
    "    j-=1\n",
    "      \n",
    "#multiply only one element\n",
    "if(i==j):\n",
    "    product*=arr[i]\n",
    "  \n",
    "#printing product\n",
    "print(product)"
   ]
  },
  {
   "cell_type": "code",
   "execution_count": null,
   "id": "434e31c4",
   "metadata": {},
   "outputs": [],
   "source": []
  }
 ],
 "metadata": {
  "kernelspec": {
   "display_name": "Python 3 (ipykernel)",
   "language": "python",
   "name": "python3"
  },
  "language_info": {
   "codemirror_mode": {
    "name": "ipython",
    "version": 3
   },
   "file_extension": ".py",
   "mimetype": "text/x-python",
   "name": "python",
   "nbconvert_exporter": "python",
   "pygments_lexer": "ipython3",
   "version": "3.9.12"
  }
 },
 "nbformat": 4,
 "nbformat_minor": 5
}
